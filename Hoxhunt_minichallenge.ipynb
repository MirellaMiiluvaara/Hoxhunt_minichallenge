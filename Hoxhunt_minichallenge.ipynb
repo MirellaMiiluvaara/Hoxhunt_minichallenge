{
 "cells": [
  {
   "cell_type": "markdown",
   "metadata": {},
   "source": [
    "### The Challenge\n",
    "Our top cyber crime fighter Sgt. Hook is near breaking a huge intergalactic email crime gang known as the Phishy Phoes. After years of cyber warfare, her (literal) mole on the inside, Gargafel came through for her. He managed to obtain a list of emails containing every single criminal - and their REAL NAMES. The only problem? The list also contains the addresses of hundreds of innocent people. Unfortunately Python is Sgt. Hooks kryptonite: her only weakness. Only YOU can save us from the criminal gang Phishy Phoes.\n",
    "\n",
    "Gargafel, using a collection of dirty tricks, has uncovered the following facts about the criminals.\n",
    "\n",
    "1. Everyone with the letter r in their last name is innocent.\n",
    "2. Emails with the top level domain co.uk that have a letter c in their full name are criminals\n",
    "3. Everyone from wonkaindustries or gringottsbank are criminals unless their first name is shorter than 4 characters.\n",
    "4. Everyone with two or more of the letter t in their full name is a criminal!\n",
    "\n",
    "The emails are in the form of a Python array. Underneath the emails there is an empty function. Finish the function so it returns the amount of criminals in the list. Return your function, and the amount of criminals it returned.\n",
    "\n",
    "Note: the rules are listed in order of priority: if two rules contradict each other, follow the first one.\n",
    "\n",
    "The total amount of criminals is a prime number."
   ]
  },
  {
   "cell_type": "markdown",
   "metadata": {},
   "source": [
    "#### Observations and process\n",
    "- File has 1000 values in total\n",
    "- Point 1. was tricky, so I decided to move on to the next point and go on from there.\n",
    "- I found 24 emails that match with the conditions of point 2. \n",
    "- Looking at the last name of these 24 emails, we see that 8 of them have 'r' in their last name, which means they are innocent. Therefore, amount of criminals within this point is 24 - 8 = <b>16</b>\n",
    "- I found 45 criminals that match with the conditions of point 3. As 26 of them had 'r' in their last name, we are left with <b>19</b> criminals at this point\n",
    "- I found 59 criminals that match with the conditions of point 3. As 28 of them had 'r' in their last name, we are left with <b>31</b> criminals at this point\n",
    "- That makes a total of criminals within point 3. the following: 19 + 31 = <b>50</b>\n",
    "- I found 17 criminals that match with the conditions of point 4. As 3 of them has 'r' in their last name, we are left with <b>14</b> criminals\n",
    "- If we now count all criminals together we get: 16 + 50 + 14 = <b>80</b>\n",
    "\n",
    "But is 80 a prime number? According to the definition of a prime number (source: https://www.factmonster.com/math-science/mathematics/prime-numbers-facts-examples-table-of-all-up-to-1000), it is not. That means I have made some errors along the way. I have not figured it quite out yet but that will be my next challenge. "
   ]
  },
  {
   "cell_type": "code",
   "execution_count": 75,
   "metadata": {},
   "outputs": [
    {
     "name": "stdout",
     "output_type": "stream",
     "text": [
      "  \"peter.pittman@taitos.com\",\n",
      "  \"ayden.reed@starkindustries.ss\",\n",
      "  \"kiefer.franks@amazonia.hk\",\n",
      "  \"oz.mcguire@tortelloni.zw\",\n",
      "  \"ellisandro.noble@bluthhousing.party\",\n",
      "  \"alyas.briggs@taitos.ninja\",\n",
      "  \"windsor.raymond@hungryhungyhippopottumoses.co.uk\",\n",
      "  \"daniyal.brock@hungryhungyhippopottumoses.ug\",\n",
      "  \"samatar.benson@duffbeer.org\",\n",
      "  \"jaime.freeman@gringottsbank.li\",\n",
      "  \"aaron.pace@starkindustries.org\",\n",
      "  \"guerin.mcgowan@taitos.li\",\n",
      "  \"believe.cote@virtucon.hk\",\n",
      "  \"abdalroof.ray@oscorp.co.uk\",\n",
      "  \"blake.barrett@tortelloni.org\",\n",
      "  \"bradlie.brooks@dundermifflin.ug\",\n",
      "  \"rayyan.garza@tortelloni.ug\",\n",
      "  \"declan.wood@dundermifflin.ug\",\n",
      "  \"tymon.blackburn@oscorp.com\",\n",
      "  \"joash.duffy@wonkaindustries.ug\",\n",
      "  \"aleksander.ford@umbrellacorporation.fi\",\n",
      "  \"jaida.colon@macrosloft.se\",\n",
      "  \"jevan.jensen@lospolloshermanos.zw\",\n",
      "  \"abubakar.palmer@dundermifflin.org\",\n",
      "  \"cator.joyce@lospolloshermanos.org\",\n",
      "  \"valen.henry@gringottsbank.co.uk\",\n",
      "  \"taylor-jay.blackburn@wonkaindustries.ug\",\n",
      "  \"leonardo.mcfadden@goldenstatuettes.co.uk\",\n",
      "  \"noel.schneider@hungryhungyhippopottumoses.co.uk\",\n",
      "  \"will.osborne@tasavallanpresidentti.com\",\n",
      "  \"arda.aguilar@oscorp.fi\",\n",
      "  \"omri.walls@virtucon.ug\",\n",
      "  \"lliam.briggs@tortelloni.se\",\n",
      "  \"kris.lester@amazonia.fi\",\n",
      "  \"skye.soto@wonkaindustries.se\",\n",
      "  \"dermot.vang@goldenstatuettes.com\",\n",
      "  \"cruiz.simmons@cookykitchens.co.uk\",\n",
      "  \"tymoteusz.riley@tortelloni.fi\",\n",
      "  \"kaidyn.hays@aperaturescience.party\",\n",
      "  \"apisai.fletcher@oscorp.co.uk\",\n",
      "  \"kedrick.mcfadden@cookykitchens.com\",\n",
      "  \"archibald.elliott@gringottsbank.hk\",\n",
      "  \"kjae.hurley@umbrellacorporation.com\",\n",
      "  \"tymon.nielsen@hungryhungyhippopottumoses.fi\",\n",
      "  \"james.dejesus@amazonia.party\",\n",
      "  \"reno.silva@gringottsbank.ug\",\n",
      "  \"tayyib.brooks@taitos.ss\",\n",
      "  \"cormack.alexander@duffbeer.ss\",\n",
      "  \"obieluem.guerra@umbrellacorporation.party\",\n",
      "  \"hector.moran@dundermifflin.co.uk\",\n",
      "  \"logan.parrish@wonkaindustries.com\",\n",
      "  \"robin.rivers@starkindustries.zw\",\n",
      "  \"albie.spence@tasavallanpresidentti.hk\",\n",
      "  \"qasim.schwartz@duffbeer.zw\",\n",
      "  \"aodhan.cooper@tasavallanpresidentti.org\",\n",
      "  \"eassan.hobbs@lospolloshermanos.org\",\n",
      "  \"parkash.juarez@wonkaindustries.party\",\n",
      "  \"teos.horton@haxhoont.se\",\n",
      "  \"kuba.larsen@duffbeer.ninja\",\n",
      "  \"eisa.beard@umbrellacorporation.li\",\n",
      "  \"hamza.french@starkindustries.org\",\n",
      "  \"sung.randall@taitos.ss\",\n",
      "  \"samir.bond@virtucon.org\",\n",
      "  \"conlyn.mckee@goldenstatuettes.com\",\n",
      "  \"thiago.hooper@starkindustries.com\",\n",
      "  \"demetrius.holland@macrosloft.zw\",\n",
      "  \"uchenna.oneill@hungryhungyhippopottumoses.zw\",\n",
      "  \"windsor.steele@hungryhungyhippopottumoses.fi\",\n",
      "  \"keiryn.macias@tasavallanpresidentti.org\",\n",
      "  \"kehinde.allen@cookykitchens.hk\",\n",
      "  \"yuri.ramirez@macrosloft.zw\",\n",
      "  \"ruan.perez@umbrellacorporation.org\",\n",
      "  \"dyllon.young@dundermifflin.zw\",\n",
      "  \"lockey.mcmahon@goldenstatuettes.fi\",\n",
      "  \"lyndsay.haynes@goldenstatuettes.ninja\",\n",
      "  \"dareh.grimes@macrosloft.co.uk\",\n",
      "  \"veeran.vinson@cookykitchens.fi\",\n",
      "  \"jayke.schroeder@lospolloshermanos.org\",\n",
      "  \"aronas.berry@bluthhousing.li\",\n",
      "  \"jonothan.donaldson@gringottsbank.zw\",\n",
      "  \"kenzeigh.weber@umbrellacorporation.se\",\n",
      "  \"cesare.huber@tasavallanpresidentti.com\",\n",
      "  \"uzair.harris@virtucon.ninja\",\n",
      "  \"kelan.yates@taitos.co.uk\",\n",
      "  \"thomson.gonzales@bluthhousing.co.uk\",\n",
      "  \"keaton.green@umbrellacorporation.hk\",\n",
      "  \"jazeb.kinney@duffbeer.co.uk\",\n",
      "  \"ronald.flores@starkindustries.hk\",\n",
      "  \"alastair.moses@umbrellacorporation.se\",\n",
      "  \"ogheneochuko.ratliff@aperaturescience.se\",\n",
      "  \"kenton.conley@gringottsbank.ninja\",\n",
      "  \"kashif.trujillo@bluthhousing.hk\",\n",
      "  \"saghun.ayers@taitos.hk\",\n",
      "  \"kamil.eaton@lospolloshermanos.org\",\n",
      "  \"bailee.henson@goldenstatuettes.li\",\n",
      "  \"alexei.stanton@haxhoont.li\",\n",
      "  \"basher.clarke@taitos.li\",\n",
      "  \"harley.brewer@lospolloshermanos.hk\",\n",
      "  \"baley.wood@hungryhungyhippopottumoses.se\",\n",
      "  \"kasim.travis@dundermifflin.org\",\n",
      "  \"deon.benson@cookykitchens.co.uk\",\n",
      "  \"rayyan.crawford@aperaturescience.ug\",\n",
      "  \"cobain.lawrence@haxhoont.fi\",\n",
      "  \"matthew-william.chang@umbrellacorporation.fi\",\n",
      "  \"devin.dean@amazonia.ss\",\n",
      "  \"doire.medina@starkindustries.com\",\n",
      "  \"pearce.allison@starkindustries.hk\",\n",
      "  \"preston.gallagher@starkindustries.se\",\n",
      "  \"wesley.nunez@starkindustries.co.uk\",\n",
      "  \"zakir.patel@cookykitchens.fi\",\n",
      "  \"praise.joyner@goldenstatuettes.hk\",\n",
      "  \"chin.gates@tasavallanpresidentti.zw\",\n",
      "  \"khizar.phillips@wonkaindustries.ug\",\n",
      "  \"cejay.turner@taitos.fi\",\n",
      "  \"jared.cleveland@taitos.zw\",\n",
      "  \"subhaan.graham@amazonia.ninja\",\n",
      "  \"coll.daugherty@oscorp.ss\",\n",
      "  \"gurwinder.mclaughlin@duffbeer.com\",\n",
      "  \"louis.briggs@starkindustries.com\",\n",
      "  \"kirwin.collins@amazonia.ug\",\n",
      "  \"ty.hutchinson@aperaturescience.party\",\n",
      "  \"pawlo.reed@haxhoont.se\",\n",
      "  \"olivier.lynch@taitos.ss\",\n",
      "  \"hately.romero@aperaturescience.zw\",\n",
      "  \"shai.bernard@wonkaindustries.ug\",\n",
      "  \"fraser.ware@gringottsbank.fi\",\n",
      "  \"morton.scott@aperaturescience.com\",\n",
      "  \"ashton.whitney@tortelloni.ug\",\n",
      "  \"kienan.odom@starkindustries.ug\",\n",
      "  \"dyllon.wright@tortelloni.party\",\n",
      "  \"daithi.hendricks@bluthhousing.ug\",\n",
      "  \"caileb-john.mcintosh@wonkaindustries.ninja\",\n",
      "  \"kaidinn.may@amazonia.com\",\n",
      "  \"kaleb.patton@bluthhousing.ug\",\n",
      "  \"jamey.bowen@tortelloni.hk\",\n",
      "  \"sean-ray.cabrera@haxhoont.fi\",\n",
      "  \"gavin-lee.fleming@lospolloshermanos.fi\",\n",
      "  \"danniel.cantrell@tortelloni.party\",\n",
      "  \"zakir.mendoza@cookykitchens.se\",\n",
      "  \"ami.wyatt@gringottsbank.zw\",\n",
      "  \"sulayman.richard@wonkaindustries.fi\",\n",
      "  \"tyrnan.glover@tasavallanpresidentti.se\",\n",
      "  \"caiden-paul.terrell@aperaturescience.hk\",\n",
      "  \"rehaan.hamilton@hungryhungyhippopottumoses.party\",\n",
      "  \"wesley.silva@aperaturescience.ug\",\n",
      "  \"coel.little@tasavallanpresidentti.org\",\n",
      "  \"windsor.gutierrez@macrosloft.hk\",\n",
      "  \"vladislav.pugh@taitos.party\",\n",
      "  \"richie.bush@tortelloni.co.uk\",\n",
      "  \"saifaddine.good@duffbeer.co.uk\",\n",
      "  \"tanzeel.fernandez@bluthhousing.party\",\n",
      "  \"findlay.malone@taitos.hk\",\n",
      "  \"tyler-jay.dennis@duffbeer.co.uk\",\n",
      "  \"kenzie.bray@haxhoont.ug\",\n",
      "  \"mathuyan.cameron@bluthhousing.zw\",\n",
      "  \"tymoteusz.wooten@aperaturescience.zw\",\n",
      "  \"joey.huffman@dundermifflin.ss\",\n",
      "  \"dylin.noble@gringottsbank.ss\",\n",
      "  \"lasse.pace@aperaturescience.hk\",\n",
      "  \"regean.robinson@tasavallanpresidentti.ug\",\n",
      "  \"bekim.powers@bluthhousing.zw\",\n",
      "  \"muhamadjavad.gould@macrosloft.co.uk\",\n",
      "  \"myles.lambert@aperaturescience.li\",\n",
      "  \"mazin.dominguez@aperaturescience.zw\",\n",
      "  \"leiten.hurst@bluthhousing.li\",\n",
      "  \"angus.wright@taitos.fi\",\n",
      "  \"rhy.roach@virtucon.ss\",\n",
      "  \"nairn.workman@tasavallanpresidentti.zw\",\n",
      "  \"ciann.carlson@aperaturescience.ss\",\n",
      "  \"aydan.aguirre@duffbeer.hk\",\n",
      "  \"ceiran.woodard@amazonia.ss\",\n",
      "  \"alvin.berry@tasavallanpresidentti.ss\",\n",
      "  \"sullivan.delacruz@dundermifflin.zw\",\n",
      "  \"boedyn.taylor@dundermifflin.li\",\n",
      "  \"bob.allison@umbrellacorporation.se\",\n",
      "  \"raul.bonner@dundermifflin.zw\",\n",
      "  \"karam.ruiz@bluthhousing.ug\",\n",
      "  \"shiloh.newman@haxhoont.li\",\n",
      "  \"ruo.stout@taitos.fi\",\n",
      "  \"believe.holder@lospolloshermanos.ninja\",\n",
      "  \"josan.cole@virtucon.fi\",\n",
      "  \"malcolm.stewart@tortelloni.li\",\n",
      "  \"caleb.mitchell@macrosloft.ninja\",\n",
      "  \"zeek.fry@wonkaindustries.ss\",\n",
      "  \"cody-lee.eaton@amazonia.org\",\n",
      "  \"walid.luna@haxhoont.party\",\n",
      "  \"ashtyn.sweet@cookykitchens.fi\",\n",
      "  \"aden.watson@virtucon.se\",\n",
      "  \"taylan.harrell@hungryhungyhippopottumoses.org\",\n",
      "  \"rennie.padilla@haxhoont.com\",\n",
      "  \"nikita.ramos@cookykitchens.li\",\n",
      "  \"praise.gillespie@virtucon.ug\",\n",
      "  \"hogan.allison@lospolloshermanos.li\",\n",
      "  \"luqman.english@taitos.party\",\n",
      "  \"jaydn.ewing@starkindustries.hk\",\n",
      "  \"jan.workman@macrosloft.ss\",\n",
      "  \"t-jay.vazquez@amazonia.zw\",\n",
      "  \"kym.stanton@umbrellacorporation.se\",\n",
      "  \"kaydan.taylor@dundermifflin.ss\",\n",
      "  \"cayden-robert.gay@gringottsbank.ss\",\n",
      "  \"motade.odom@aperaturescience.com\",\n",
      "  \"ezra.wong@cookykitchens.ug\",\n",
      "  \"sher.garner@bluthhousing.zw\",\n",
      "  \"bodhan.keller@cookykitchens.li\",\n",
      "  \"masson.graves@virtucon.ug\",\n",
      "  \"saman.rodriguez@gringottsbank.ss\",\n",
      "  \"marcin.bridges@haxhoont.hk\",\n",
      "  \"cillin.juarez@hungryhungyhippopottumoses.li\",\n",
      "  \"lucian.hood@starkindustries.li\",\n",
      "  \"prentice.garza@amazonia.org\",\n",
      "  \"peter.stein@starkindustries.party\",\n",
      "  \"shergo.hamilton@amazonia.fi\",\n",
      "  \"nathan.callahan@taitos.li\",\n",
      "  \"carlo.odonnell@virtucon.fi\",\n",
      "  \"lloyd.leach@haxhoont.org\",\n",
      "  \"atom.norton@haxhoont.ninja\",\n",
      "  \"torsten.oneil@duffbeer.co.uk\",\n",
      "  \"kavin.hurst@wonkaindustries.ninja\",\n",
      "  \"alber.lowery@lospolloshermanos.se\",\n",
      "  \"neshawn.benjamin@macrosloft.ug\",\n",
      "  \"thumbiko.kirby@starkindustries.se\",\n",
      "  \"cale.lindsay@aperaturescience.ss\",\n",
      "  \"akan.levine@lospolloshermanos.li\",\n",
      "  \"filippo.herring@wonkaindustries.party\",\n",
      "  \"jerome.salinas@umbrellacorporation.li\",\n",
      "  \"qirui.farrell@haxhoont.fi\",\n",
      "  \"tariq-jay.burns@tasavallanpresidentti.zw\",\n",
      "  \"harvinder.hester@tasavallanpresidentti.party\",\n",
      "  \"fawkes.tate@bluthhousing.hk\",\n",
      "  \"zacharius.fisher@lospolloshermanos.org\",\n",
      "  \"zayn.shields@lospolloshermanos.ninja\",\n",
      "  \"angus.bentley@cookykitchens.co.uk\",\n",
      "  \"dante.bennett@amazonia.li\",\n",
      "  \"koushik.zamora@goldenstatuettes.li\",\n",
      "  \"cori.wall@hungryhungyhippopottumoses.ss\",\n",
      "  \"andrejs.bennett@bluthhousing.zw\",\n",
      "  \"taylar.monroe@macrosloft.fi\",\n",
      "  \"ijay.duffy@virtucon.fi\",\n",
      "  \"ciarian.greene@hungryhungyhippopottumoses.ninja\",\n",
      "  \"suraj.blackburn@amazonia.co.uk\",\n",
      "  \"syed.stone@lospolloshermanos.co.uk\",\n",
      "  \"garrett.sharp@starkindustries.zw\",\n",
      "  \"tymoteusz.stevenson@starkindustries.fi\",\n",
      "  \"haris.page@aperaturescience.li\",\n",
      "  \"aron.witt@haxhoont.zw\",\n",
      "  \"alieu.cervantes@aperaturescience.com\",\n",
      "  \"sidney.hahn@goldenstatuettes.fi\",\n",
      "  \"oilibhear.kerr@wonkaindustries.com\",\n",
      "  \"jaii.diaz@cookykitchens.org\",\n",
      "  \"jia.acevedo@goldenstatuettes.org\",\n",
      "  \"siddhant.duffy@macrosloft.ug\",\n",
      "  \"branden.harris@tasavallanpresidentti.li\",\n",
      "  \"axel.hernandez@oscorp.fi\",\n",
      "  \"cory.cannon@virtucon.zw\",\n",
      "  \"tomson.craft@virtucon.ss\",\n",
      "  \"forgan.aguirre@virtucon.org\",\n",
      "  \"aristotelis.hopper@oscorp.li\",\n",
      "  \"dylin.decker@oscorp.fi\",\n",
      "  \"samar.petersen@gringottsbank.com\",\n",
      "  \"rishi.wade@aperaturescience.ninja\",\n",
      "  \"irvin.mccarty@tortelloni.com\",\n",
      "  \"kensey.foster@starkindustries.li\",\n",
      "  \"aj.tucker@oscorp.zw\",\n",
      "  \"reynold.church@taitos.ss\",\n",
      "  \"aon.neal@wonkaindustries.zw\",\n",
      "  \"howard.johns@oscorp.zw\",\n",
      "  \"darn.turner@tortelloni.com\",\n",
      "  \"niall.atkins@duffbeer.ninja\",\n",
      "  \"oakley.mckenzie@oscorp.fi\",\n",
      "  \"darrie.velez@starkindustries.fi\",\n",
      "  \"martyn.pittman@macrosloft.li\",\n",
      "  \"krzysztof.mendoza@tortelloni.ninja\",\n",
      "  \"samar.huff@aperaturescience.ninja\",\n",
      "  \"kez.kinney@goldenstatuettes.party\",\n",
      "  \"chin.summers@tortelloni.li\",\n",
      "  \"darragh.knapp@tasavallanpresidentti.party\",\n",
      "  \"brendyn.lewis@cookykitchens.ninja\",\n",
      "  \"chang-ha.rosales@macrosloft.fi\",\n",
      "  \"kaan.baldwin@tasavallanpresidentti.ss\",\n",
      "  \"mir.mcgowan@oscorp.party\",\n",
      "  \"ridwan.hernandez@tortelloni.se\",\n",
      "  \"cesare.todd@bluthhousing.ug\",\n",
      "  \"neo.ortega@tortelloni.se\",\n",
      "  \"jensyn.eaton@taitos.party\",\n",
      "  \"kaydyn.hill@lospolloshermanos.fi\",\n",
      "  \"otto.hoover@haxhoont.ss\",\n",
      "  \"lukasz.soto@aperaturescience.hk\",\n",
      "  \"tadhg.fields@dundermifflin.com\",\n",
      "  \"owain.dale@goldenstatuettes.ug\",\n",
      "  \"prithvi.mclaughlin@goldenstatuettes.hk\",\n",
      "  \"ceilan.ware@macrosloft.hk\",\n",
      "  \"tate.curtis@goldenstatuettes.com\",\n",
      "  \"rhy.bridges@hungryhungyhippopottumoses.se\",\n",
      "  \"harnek.collins@virtucon.org\",\n",
      "  \"dakota.morgan@aperaturescience.fi\",\n",
      "  \"billy.fitzgerald@aperaturescience.party\",\n",
      "  \"wyatt.dawson@dundermifflin.li\",\n",
      "  \"seamus.nixon@haxhoont.com\",\n",
      "  \"kogan.massey@tortelloni.hk\",\n",
      "  \"brandonlee.rowe@tasavallanpresidentti.li\",\n",
      "  \"reng.chang@tortelloni.com\",\n",
      "  \"hunter.kinney@gringottsbank.org\",\n",
      "  \"umair.pate@goldenstatuettes.org\",\n",
      "  \"ronnie.sandoval@wonkaindustries.com\",\n",
      "  \"demetrius.pate@haxhoont.ninja\",\n",
      "  \"ruslan.hogan@oscorp.party\",\n",
      "  \"bentley.sutton@dundermifflin.li\",\n",
      "  \"brandon.allen@amazonia.se\",\n",
      "  \"tobie.blair@taitos.com\",\n",
      "  \"finlay.mcintosh@lospolloshermanos.ninja\",\n",
      "  \"celik.reese@starkindustries.ug\",\n",
      "  \"alexei.solomon@taitos.co.uk\",\n",
      "  \"harrison.wall@amazonia.ninja\",\n",
      "  \"blessing.walter@wonkaindustries.party\",\n",
      "  \"gene.bryan@goldenstatuettes.fi\",\n",
      "  \"kensey.robles@lospolloshermanos.ninja\",\n",
      "  \"luka.lott@duffbeer.fi\",\n",
      "  \"jonah.weaver@macrosloft.ug\",\n",
      "  \"michael-james.ramirez@dundermifflin.zw\",\n",
      "  \"tian.koch@tasavallanpresidentti.li\",\n",
      "  \"levon.oconnor@goldenstatuettes.se\",\n",
      "  \"loki.floyd@starkindustries.ug\",\n",
      "  \"marvin.cain@oscorp.co.uk\",\n",
      "  \"erencem.barton@aperaturescience.zw\",\n",
      "  \"momooreoluwa.parks@hungryhungyhippopottumoses.ug\",\n",
      "  \"osesenagha.herring@tasavallanpresidentti.org\",\n",
      "  \"urban.freeman@duffbeer.ug\",\n",
      "  \"nico.simon@cookykitchens.zw\",\n",
      "  \"loghan.guthrie@goldenstatuettes.li\",\n",
      "  \"sajid.matthews@lospolloshermanos.fi\",\n",
      "  \"omar.hebert@goldenstatuettes.co.uk\",\n",
      "  \"kristopher.nash@goldenstatuettes.se\",\n",
      "  \"daren.pearson@wonkaindustries.zw\",\n",
      "  \"lawson.gilliam@taitos.co.uk\",\n",
      "  \"believe.klein@virtucon.se\",\n",
      "  \"brendan.mayer@tasavallanpresidentti.ss\",\n",
      "  \"danar.salas@macrosloft.ninja\",\n",
      "  \"kabeer.rios@taitos.zw\",\n",
      "  \"daithi.day@hungryhungyhippopottumoses.fi\",\n",
      "  \"crombie.snider@aperaturescience.fi\",\n",
      "  \"calib.dennis@taitos.ninja\",\n",
      "  \"geoff.ashley@umbrellacorporation.zw\",\n",
      "  \"declyn.finch@tasavallanpresidentti.se\",\n",
      "  \"zaaine.house@starkindustries.fi\",\n",
      "  \"gianluca.bryan@goldenstatuettes.co.uk\",\n",
      "  \"arann.brennan@lospolloshermanos.ninja\",\n",
      "  \"abdul-majeed.leon@duffbeer.com\",\n",
      "  \"abdallah.blanchard@dundermifflin.li\",\n",
      "  \"ciar.fields@tasavallanpresidentti.co.uk\",\n",
      "  \"lucian.coffey@wonkaindustries.com\",\n",
      "  \"ali.peck@bluthhousing.ss\",\n",
      "  \"ibrahim.berger@duffbeer.ninja\",\n",
      "  \"kaden.preston@goldenstatuettes.fi\",\n",
      "  \"korrin.hays@oscorp.ss\",\n",
      "  \"jaiden.munoz@goldenstatuettes.party\",\n",
      "  \"surien.burton@tasavallanpresidentti.hk\",\n",
      "  \"jazz.frank@tortelloni.party\",\n",
      "  \"liam-stephen.kemp@virtucon.party\",\n",
      "  \"rocco.porter@tortelloni.ug\",\n",
      "  \"riach.rodgers@starkindustries.ug\",\n",
      "  \"calan.burks@haxhoont.ss\",\n",
      "  \"mantej.gillespie@goldenstatuettes.ug\",\n",
      "  \"hussnain.farmer@macrosloft.party\",\n",
      "  \"kai.walsh@bluthhousing.hk\",\n",
      "  \"allan-laiton.stark@amazonia.li\",\n",
      "  \"lewis.carr@cookykitchens.ss\",\n",
      "  \"dale.bradley@amazonia.ug\",\n",
      "  \"montague.potts@hungryhungyhippopottumoses.ss\",\n",
      "  \"ker.joseph@gringottsbank.fi\",\n",
      "  \"dedeniseoluwa.peterson@goldenstatuettes.se\",\n",
      "  \"aaryan.colon@dundermifflin.fi\",\n",
      "  \"vasyl.cortez@wonkaindustries.org\",\n",
      "  \"cael.washington@bluthhousing.org\",\n",
      "  \"arayan.ford@bluthhousing.fi\",\n",
      "  \"flyn.cruz@taitos.ug\",\n",
      "  \"kris.james@tasavallanpresidentti.zw\",\n",
      "  \"callun.harrington@virtucon.hk\",\n",
      "  \"zander.cleveland@gringottsbank.ss\",\n",
      "  \"chester.hammond@lospolloshermanos.ss\",\n",
      "  \"basile.gray@duffbeer.party\",\n",
      "  \"davis.lamb@macrosloft.ninja\",\n",
      "  \"gabriel.may@bluthhousing.zw\",\n",
      "  \"yusef.parsons@taitos.ninja\",\n",
      "  \"kieren.butler@duffbeer.ug\",\n",
      "  \"bret.martinez@haxhoont.ss\",\n",
      "  \"aden.dickerson@dundermifflin.ss\",\n",
      "  \"kal-el.mcmahon@starkindustries.fi\",\n",
      "  \"bernard.nguyen@dundermifflin.org\",\n",
      "  \"nolan.mcbride@duffbeer.fi\",\n",
      "  \"joshiah.mckenzie@gringottsbank.zw\",\n",
      "  \"lloyd.carroll@tortelloni.li\",\n",
      "  \"sheafan.sloan@macrosloft.fi\",\n",
      "  \"rowen.walters@haxhoont.se\",\n",
      "  \"zacharie.sparks@hungryhungyhippopottumoses.fi\",\n",
      "  \"mckay.stewart@dundermifflin.ug\",\n",
      "  \"munmair.padilla@gringottsbank.party\",\n",
      "  \"mccaulley.pratt@tortelloni.hk\",\n",
      "  \"jason.butler@starkindustries.ss\",\n",
      "  \"kenlin.hardy@bluthhousing.ug\",\n",
      "  \"arann.hood@tasavallanpresidentti.fi\",\n",
      "  \"darcy.giles@goldenstatuettes.li\",\n",
      "  \"aliyaan.carlson@goldenstatuettes.com\",\n",
      "  \"dimitri.boyer@umbrellacorporation.hk\",\n",
      "  \"bayley.adkins@dundermifflin.li\",\n",
      "  \"cristian.meyer@gringottsbank.li\",\n",
      "  \"jordan.wallace@bluthhousing.org\",\n",
      "  \"forrest.mosley@haxhoont.se\",\n",
      "  \"hussnan.buckner@cookykitchens.org\",\n",
      "  \"hamish.rosa@gringottsbank.org\",\n",
      "  \"gabriel.macdonald@starkindustries.org\",\n",
      "  \"moyes.mcgee@dundermifflin.co.uk\",\n",
      "  \"alber.tran@amazonia.li\",\n",
      "  \"kaelan.decker@hungryhungyhippopottumoses.zw\",\n",
      "  \"kaydyne.trujillo@oscorp.zw\",\n",
      "  \"blaire.curtis@haxhoont.ninja\",\n",
      "  \"peirce.hill@starkindustries.co.uk\",\n",
      "  \"leroy.fernandez@tasavallanpresidentti.ss\",\n",
      "  \"kofi.hayden@oscorp.ug\",\n",
      "  \"bradlie.payne@taitos.hk\",\n",
      "  \"nabeel.owen@macrosloft.com\",\n",
      "  \"izaak.gill@haxhoont.fi\",\n",
      "  \"arsalan.fernandez@macrosloft.se\",\n",
      "  \"leonardo.harmon@tortelloni.party\",\n",
      "  \"maksymilian.lambert@tortelloni.ug\",\n",
      "  \"sanaullah.bean@bluthhousing.li\",\n",
      "  \"bekim.cervantes@oscorp.fi\",\n",
      "  \"jian.wade@hungryhungyhippopottumoses.se\",\n",
      "  \"robert.britt@gringottsbank.com\",\n",
      "  \"eassan.burt@virtucon.ug\",\n",
      "  \"ubaid.horton@aperaturescience.ninja\",\n",
      "  \"hirvaansh.hall@wonkaindustries.ug\",\n",
      "  \"johnson.mendez@goldenstatuettes.zw\",\n",
      "  \"miller.kennedy@umbrellacorporation.party\",\n",
      "  \"stephen.vang@tasavallanpresidentti.ug\",\n",
      "  \"anthony-john.norton@oscorp.fi\",\n",
      "  \"nathan-rae.faulkner@dundermifflin.li\",\n",
      "  \"eden.luna@gringottsbank.hk\",\n",
      "  \"dharam.barr@macrosloft.co.uk\",\n",
      "  \"aun.howe@wonkaindustries.ug\",\n",
      "  \"niven.ramos@tortelloni.ninja\",\n",
      "  \"malikye.lester@oscorp.zw\",\n",
      "  \"neo.conner@tortelloni.com\",\n",
      "  \"mathuyan.mcbride@gringottsbank.com\",\n",
      "  \"maksymilian.green@umbrellacorporation.co.uk\",\n",
      "  \"konar.bonner@amazonia.party\",\n",
      "  \"nicolae.clay@aperaturescience.com\",\n",
      "  \"ayub.yates@hungryhungyhippopottumoses.ug\",\n",
      "  \"benjamin.velez@tasavallanpresidentti.org\",\n",
      "  \"sukhvir.johns@aperaturescience.li\",\n",
      "  \"rajab-ali.ewing@oscorp.zw\",\n",
      "  \"obieluem.sargent@virtucon.com\",\n",
      "  \"jerry.slater@goldenstatuettes.se\",\n",
      "  \"asim.alvarez@virtucon.party\",\n",
      "  \"steve.pennington@duffbeer.hk\",\n",
      "  \"joynul.morgan@bluthhousing.co.uk\",\n",
      "  \"clayton.herrera@macrosloft.zw\",\n",
      "  \"hansen.vasquez@gringottsbank.org\",\n",
      "  \"leno.newton@duffbeer.ninja\",\n",
      "  \"obieluem.slater@hungryhungyhippopottumoses.ninja\",\n",
      "  \"vasyl.vincent@tasavallanpresidentti.ug\",\n",
      "  \"rupert.holden@macrosloft.ss\",\n",
      "  \"tomson.whitney@tortelloni.co.uk\",\n",
      "  \"albert.ellison@bluthhousing.fi\",\n",
      "  \"kinneil.garza@macrosloft.ss\",\n",
      "  \"ruo.pitts@macrosloft.ninja\",\n",
      "  \"niraj.massey@lospolloshermanos.fi\",\n",
      "  \"eden.leach@wonkaindustries.com\",\n",
      "  \"rori.bray@bluthhousing.ss\",\n",
      "  \"valery.camacho@umbrellacorporation.ss\",\n",
      "  \"silas.hinton@bluthhousing.zw\",\n",
      "  \"yuri.melton@aperaturescience.li\",\n",
      "  \"morris.hewitt@taitos.hk\",\n",
      "  \"bo.hubbard@amazonia.zw\",\n",
      "  \"salahudin.gordon@haxhoont.hk\",\n",
      "  \"danar.byers@cookykitchens.hk\",\n",
      "  \"kallin.dyer@aperaturescience.hk\",\n",
      "  \"ohran.white@bluthhousing.co.uk\",\n",
      "  \"kia.daugherty@taitos.com\",\n",
      "  \"teos.powell@virtucon.org\",\n",
      "  \"jaydan.gill@dundermifflin.co.uk\",\n",
      "  \"uilleam.hammond@tasavallanpresidentti.zw\",\n",
      "  \"danys.roman@oscorp.se\",\n",
      "  \"munmair.perkins@tortelloni.com\",\n",
      "  \"fletcher.berger@hungryhungyhippopottumoses.zw\",\n",
      "  \"brogan.montoya@wonkaindustries.fi\",\n",
      "  \"archibald.cohen@dundermifflin.se\",\n",
      "  \"abraham.miranda@bluthhousing.fi\",\n",
      "  \"salvador.dale@tasavallanpresidentti.li\",\n",
      "  \"oliwier.donaldson@cookykitchens.com\",\n",
      "  \"rheyden.compton@bluthhousing.co.uk\",\n",
      "  \"adnan.briggs@lospolloshermanos.ninja\",\n",
      "  \"joe.walton@virtucon.li\",\n",
      "  \"garry.roy@virtucon.com\",\n",
      "  \"adegbolahan.copeland@hungryhungyhippopottumoses.co.uk\",\n",
      "  \"lincoln.dennis@dundermifflin.se\",\n",
      "  \"rhuan.christian@macrosloft.ss\",\n",
      "  \"calvin.graham@gringottsbank.zw\",\n",
      "  \"aldred.burt@macrosloft.org\",\n",
      "  \"andreas.brewer@starkindustries.ug\",\n",
      "  \"niro.ware@wonkaindustries.se\",\n",
      "  \"shadow.lindsey@dundermifflin.ug\",\n",
      "  \"ivar.joseph@haxhoont.fi\",\n",
      "  \"etienne.cash@hungryhungyhippopottumoses.co.uk\",\n",
      "  \"shaunpaul.luna@hungryhungyhippopottumoses.se\",\n",
      "  \"arian.tillman@amazonia.fi\",\n",
      "  \"stewart.sears@gringottsbank.se\",\n",
      "  \"jahid.marquez@dundermifflin.org\",\n",
      "  \"judah.elliott@umbrellacorporation.zw\",\n",
      "  \"daanyaal.barber@lospolloshermanos.ug\",\n",
      "  \"eliot.carey@amazonia.li\",\n",
      "  \"xin.black@tortelloni.hk\",\n",
      "  \"mohammad-bilal.carlson@goldenstatuettes.co.uk\",\n",
      "  \"yong.reynolds@tortelloni.org\",\n",
      "  \"braden.oconnor@duffbeer.li\",\n",
      "  \"vinh.lyons@taitos.com\",\n",
      "  \"kiaran.flowers@haxhoont.fi\",\n",
      "  \"alessio.michael@duffbeer.hk\",\n",
      "  \"lachlainn.jefferson@hungryhungyhippopottumoses.party\",\n",
      "  \"levi.olson@starkindustries.hk\",\n",
      "  \"walter.lara@tasavallanpresidentti.com\",\n",
      "  \"nader.sanchez@taitos.li\",\n",
      "  \"leighton.simmons@goldenstatuettes.li\",\n",
      "  \"dean.warren@starkindustries.ninja\",\n",
      "  \"yu.everett@cookykitchens.ss\",\n",
      "  \"bradlie.macdonald@bluthhousing.se\",\n",
      "  \"atapattu.sloan@dundermifflin.ug\",\n",
      "  \"will.blair@tortelloni.ninja\",\n",
      "  \"filip.wilkerson@starkindustries.party\",\n",
      "  \"jean-pierre.glover@wonkaindustries.ss\",\n",
      "  \"allan.acevedo@taitos.ninja\",\n",
      "  \"bobby-lee.jenkins@cookykitchens.co.uk\",\n",
      "  \"kehinde.santiago@aperaturescience.fi\",\n",
      "  \"jamie.beasley@cookykitchens.li\",\n",
      "  \"harvie.koch@aperaturescience.org\",\n",
      "  \"cathal.mcbride@haxhoont.ss\",\n",
      "  \"ryden.jefferson@haxhoont.ss\",\n",
      "  \"t-jay.chavez@bluthhousing.li\",\n",
      "  \"kohen.eaton@bluthhousing.co.uk\",\n",
      "  \"heddle.hays@aperaturescience.se\",\n",
      "  \"ammer.newman@lospolloshermanos.li\",\n",
      "  \"calen.hubbard@starkindustries.fi\",\n",
      "  \"alfy.nixon@cookykitchens.org\",\n",
      "  \"rikki.jackson@goldenstatuettes.se\",\n",
      "  \"aref.bass@gringottsbank.ss\",\n",
      "  \"fahad.farrell@cookykitchens.co.uk\",\n",
      "  \"jaydyn.gill@umbrellacorporation.zw\",\n",
      "  \"cain.marshall@goldenstatuettes.ug\",\n",
      "  \"momooreoluwa.singleton@tasavallanpresidentti.ug\",\n",
      "  \"keigan.golden@aperaturescience.zw\",\n",
      "  \"rees.huffman@goldenstatuettes.se\",\n",
      "  \"bradyn.harding@tasavallanpresidentti.ninja\",\n",
      "  \"keith.frederick@goldenstatuettes.ninja\",\n",
      "  \"cobi.fulton@taitos.fi\",\n",
      "  \"kevan.whitfield@taitos.party\",\n",
      "  \"aliekber.cooper@oscorp.li\",\n",
      "  \"eesa.juarez@virtucon.zw\",\n",
      "  \"vuyolwethu.albert@cookykitchens.fi\",\n",
      "  \"codie.frost@gringottsbank.party\",\n",
      "  \"laughlan.carrillo@macrosloft.party\",\n",
      "  \"kaywan.sears@tortelloni.org\",\n",
      "  \"gary.leon@gringottsbank.party\",\n",
      "  \"francis.reid@aperaturescience.hk\",\n",
      "  \"aiman.wolf@tasavallanpresidentti.se\",\n",
      "  \"bryson.watts@goldenstatuettes.hk\",\n",
      "  \"abbas.weber@wonkaindustries.co.uk\",\n",
      "  \"greig.barlow@wonkaindustries.ss\",\n",
      "  \"jerome.sellers@tortelloni.ss\",\n",
      "  \"kori.tyson@haxhoont.li\",\n",
      "  \"loki.powell@amazonia.ug\",\n",
      "  \"abhinav.wooten@macrosloft.org\",\n",
      "  \"connar.dorsey@tortelloni.zw\",\n",
      "  \"malo.johns@virtucon.ss\",\n",
      "  \"pierre-antoine.jarvis@starkindustries.li\",\n",
      "  \"rajab-ali.pittman@gringottsbank.com\",\n",
      "  \"kinsey.armstrong@starkindustries.fi\",\n",
      "  \"corben.guerra@oscorp.se\",\n",
      "  \"jedd.rodriguez@wonkaindustries.se\",\n",
      "  \"taonga.finch@dundermifflin.li\",\n",
      "  \"aarez.hull@duffbeer.co.uk\",\n",
      "  \"levi.york@umbrellacorporation.ss\",\n",
      "  \"bjorn.yates@gringottsbank.ug\",\n",
      "  \"innes.stanton@gringottsbank.ninja\",\n",
      "  \"tadd.maxwell@macrosloft.se\",\n",
      "  \"sandro.buckley@hungryhungyhippopottumoses.com\",\n",
      "  \"lincoln.crosby@macrosloft.ninja\",\n",
      "  \"kenzeigh.page@aperaturescience.li\",\n",
      "  \"fynn.gaines@macrosloft.party\",\n",
      "  \"liam.aguirre@virtucon.com\",\n",
      "  \"bo.greer@haxhoont.se\",\n",
      "  \"daegan.kline@wonkaindustries.zw\",\n",
      "  \"leven.house@amazonia.se\",\n",
      "  \"manus.carney@dundermifflin.party\",\n",
      "  \"maias.pacheco@tasavallanpresidentti.fi\",\n",
      "  \"orlando.heath@umbrellacorporation.ninja\",\n",
      "  \"bradley.gordon@goldenstatuettes.li\",\n",
      "  \"seane.gentry@tasavallanpresidentti.com\",\n",
      "  \"wiktor.lott@aperaturescience.hk\",\n",
      "  \"kelam.golden@taitos.party\",\n",
      "  \"t-jay.black@duffbeer.org\",\n",
      "  \"eadie.burgess@starkindustries.zw\",\n",
      "  \"lincoln.johns@oscorp.se\",\n",
      "  \"mungo.benjamin@haxhoont.co.uk\",\n",
      "  \"strachan.pitts@haxhoont.org\",\n",
      "  \"junior.payne@hungryhungyhippopottumoses.party\",\n",
      "  \"narvic.stein@haxhoont.li\",\n",
      "  \"oluwatobiloba.rogers@hungryhungyhippopottumoses.com\",\n",
      "  \"zi.brooks@bluthhousing.fi\",\n",
      "  \"johannes.wilkinson@wonkaindustries.zw\",\n",
      "  \"stephen.meyer@lospolloshermanos.fi\",\n",
      "  \"baley.merrill@tasavallanpresidentti.li\",\n",
      "  \"ceilan.nash@starkindustries.zw\",\n",
      "  \"jaidyn.ramos@oscorp.ninja\",\n",
      "  \"lincon.morrison@wonkaindustries.li\",\n",
      "  \"ogheneochuko.nelson@tasavallanpresidentti.ss\",\n",
      "  \"aayan.armstrong@haxhoont.ninja\",\n",
      "  \"fruin.woodward@dundermifflin.ss\",\n",
      "  \"warrick.love@virtucon.party\",\n",
      "  \"wesley-scott.may@tasavallanpresidentti.com\",\n",
      "  \"peni.foster@oscorp.ss\",\n",
      "  \"lorenz.lawrence@dundermifflin.li\",\n",
      "  \"sahil.bowers@virtucon.hk\",\n",
      "  \"hogan.mcdowell@taitos.fi\",\n",
      "  \"adnan.bruce@virtucon.com\",\n",
      "  \"lockey.wolfe@lospolloshermanos.ss\",\n",
      "  \"brooklin.herring@gringottsbank.com\",\n",
      "  \"alber.hart@hungryhungyhippopottumoses.hk\",\n",
      "  \"loudon.franks@gringottsbank.zw\",\n",
      "  \"louie.mckay@bluthhousing.se\",\n",
      "  \"milo.bond@aperaturescience.ninja\",\n",
      "  \"pawel.odonnell@amazonia.zw\",\n",
      "  \"maisum.zamora@haxhoont.fi\",\n",
      "  \"rudi.chandler@starkindustries.hk\",\n",
      "  \"baye.travis@haxhoont.li\",\n",
      "  \"jian.glenn@goldenstatuettes.se\",\n",
      "  \"fynlay.johnson@tasavallanpresidentti.li\",\n",
      "  \"matteo.daniels@lospolloshermanos.ninja\",\n",
      "  \"thorfinn.noble@umbrellacorporation.hk\",\n",
      "  \"dregan.blair@tortelloni.fi\",\n",
      "  \"oskar.kane@starkindustries.ug\",\n",
      "  \"tymoteusz.ball@aperaturescience.fi\",\n",
      "  \"kal-el.owen@starkindustries.li\",\n",
      "  \"filippo.carey@amazonia.zw\",\n",
      "  \"zaak.dillard@hungryhungyhippopottumoses.se\",\n",
      "  \"faizaan.knapp@macrosloft.zw\",\n",
      "  \"munir.reyes@tortelloni.ninja\",\n",
      "  \"denny.logan@goldenstatuettes.co.uk\",\n",
      "  \"antonio.rose@amazonia.ss\",\n",
      "  \"andreas.baxter@lospolloshermanos.party\",\n",
      "  \"nadeem.pacheco@goldenstatuettes.party\",\n",
      "  \"jarred.stone@starkindustries.fi\",\n",
      "  \"dylan-patrick.west@dundermifflin.ninja\",\n",
      "  \"johnson.humphrey@macrosloft.li\",\n",
      "  \"ashley.acosta@bluthhousing.party\",\n",
      "  \"lepeng.mcfadden@wonkaindustries.co.uk\",\n",
      "  \"muir.warner@haxhoont.hk\",\n",
      "  \"rhyan.barrera@umbrellacorporation.party\",\n",
      "  \"dylan-james.perkins@goldenstatuettes.ss\",\n",
      "  \"rafal.le@haxhoont.li\",\n",
      "  \"asif.browning@cookykitchens.ninja\",\n",
      "  \"rorie.lara@tortelloni.co.uk\",\n",
      "  \"dominick.hoffman@duffbeer.ninja\",\n",
      "  \"devan.nolan@dundermifflin.ug\",\n",
      "  \"ezekiel.rios@amazonia.org\",\n",
      "  \"gjan.beasley@tortelloni.li\",\n",
      "  \"maryk.patterson@aperaturescience.ninja\",\n",
      "  \"sidharth.pickett@hungryhungyhippopottumoses.ninja\",\n",
      "  \"vuyolwethu.craft@hungryhungyhippopottumoses.ug\",\n",
      "  \"jia.alford@lospolloshermanos.li\",\n",
      "  \"braiden.bauer@oscorp.party\",\n",
      "  \"leylann.massey@macrosloft.fi\",\n",
      "  \"aon.chang@tasavallanpresidentti.fi\",\n",
      "  \"johnny.davidson@oscorp.org\",\n",
      "  \"noor.simmons@umbrellacorporation.li\",\n",
      "  \"karol.drake@haxhoont.hk\",\n",
      "  \"aydin.knapp@tasavallanpresidentti.party\",\n",
      "  \"bilal.conley@umbrellacorporation.zw\",\n",
      "  \"erik.caldwell@duffbeer.ss\",\n",
      "  \"greig.benjamin@tasavallanpresidentti.ss\",\n",
      "  \"zinedine.rowland@haxhoont.li\",\n",
      "  \"jorryn.munoz@goldenstatuettes.hk\",\n",
      "  \"eamon.lindsay@dundermifflin.ss\",\n",
      "  \"arthur.navarro@virtucon.party\",\n",
      "  \"sambrid.beasley@aperaturescience.ninja\",\n",
      "  \"angel.ramos@bluthhousing.li\",\n",
      "  \"amgad.bradley@tortelloni.hk\",\n",
      "  \"pasquale.faulkner@virtucon.ninja\",\n",
      "  \"enzo.cole@lospolloshermanos.org\",\n",
      "  \"meko.richardson@goldenstatuettes.com\",\n",
      "  \"leighton.marquez@dundermifflin.party\",\n",
      "  \"tyrnan.meadows@taitos.com\",\n",
      "  \"camerin.sloan@dundermifflin.zw\",\n",
      "  \"cori.mckee@hungryhungyhippopottumoses.party\",\n",
      "  \"immanuel.garrison@hungryhungyhippopottumoses.fi\",\n",
      "  \"mathias.fulton@oscorp.zw\",\n",
      "  \"rudy.nielsen@lospolloshermanos.hk\",\n",
      "  \"darn.andrews@duffbeer.se\",\n",
      "  \"abdul-aziz.mcconnell@gringottsbank.ninja\",\n",
      "  \"oluwafikunayomi.henson@umbrellacorporation.ss\",\n",
      "  \"richard.boyer@macrosloft.fi\",\n",
      "  \"hussnan.cote@virtucon.se\",\n",
      "  \"julien.holden@gringottsbank.party\",\n",
      "  \"bartosz.skinner@aperaturescience.org\",\n",
      "  \"kendyn.maynard@starkindustries.org\",\n",
      "  \"irvin.arnold@wonkaindustries.co.uk\",\n",
      "  \"strachan.leblanc@hungryhungyhippopottumoses.com\",\n",
      "  \"ashwin.guerra@amazonia.party\",\n",
      "  \"kylian.rogers@haxhoont.fi\",\n",
      "  \"dex.hill@wonkaindustries.li\",\n",
      "  \"arron.gilmore@aperaturescience.co.uk\",\n",
      "  \"muzammil.sharpe@starkindustries.co.uk\",\n",
      "  \"mathias.barber@hungryhungyhippopottumoses.fi\",\n",
      "  \"jebadiah.pugh@hungryhungyhippopottumoses.co.uk\",\n",
      "  \"dakota.gay@tasavallanpresidentti.hk\",\n",
      "  \"harleigh.garrett@tortelloni.ug\",\n",
      "  \"dissanayake.rose@wonkaindustries.ninja\",\n",
      "  \"shayan.deleon@amazonia.hk\",\n",
      "  \"obieluem.levine@cookykitchens.fi\",\n",
      "  \"sajjad.buckley@amazonia.li\",\n",
      "  \"shiraz.daugherty@amazonia.zw\",\n",
      "  \"moosa.watson@aperaturescience.ug\",\n",
      "  \"maksim.schultz@umbrellacorporation.party\",\n",
      "  \"sung.copeland@macrosloft.ss\",\n",
      "  \"coel.key@gringottsbank.com\",\n",
      "  \"lochlan-oliver.white@hungryhungyhippopottumoses.se\",\n",
      "  \"majid.bryan@amazonia.li\",\n",
      "  \"nial.pitts@dundermifflin.com\",\n",
      "  \"allesandro.porter@amazonia.fi\",\n",
      "  \"theodore.burnett@tortelloni.ss\",\n",
      "  \"sephiroth.duke@umbrellacorporation.ug\",\n",
      "  \"filip.baxter@tasavallanpresidentti.li\",\n",
      "  \"shawnpaul.tucker@gringottsbank.ninja\",\n",
      "  \"rajab-ali.floyd@tasavallanpresidentti.co.uk\",\n",
      "  \"tokinaga.barton@duffbeer.ss\",\n",
      "  \"rees.christensen@virtucon.org\",\n",
      "  \"harleigh.moses@starkindustries.li\",\n",
      "  \"rico.guy@lospolloshermanos.com\",\n",
      "  \"corey-james.garza@virtucon.zw\",\n",
      "  \"connor.velasquez@wonkaindustries.co.uk\",\n",
      "  \"cole.marks@hungryhungyhippopottumoses.ug\",\n",
      "  \"zackary.moody@gringottsbank.li\",\n",
      "  \"robi.franklin@gringottsbank.zw\",\n",
      "  \"heini.acosta@haxhoont.hk\",\n",
      "  \"dinaras.daugherty@aperaturescience.hk\",\n",
      "  \"grayson.walton@macrosloft.ninja\",\n",
      "  \"derryn.tran@gringottsbank.zw\",\n",
      "  \"ryszard.clements@oscorp.ninja\",\n",
      "  \"jayson.newton@gringottsbank.zw\",\n",
      "  \"keavan.roth@duffbeer.hk\",\n",
      "  \"harleigh.oconnor@bluthhousing.fi\",\n",
      "  \"fergus.estrada@tortelloni.se\",\n",
      "  \"kit.best@gringottsbank.co.uk\",\n",
      "  \"jagat.wong@starkindustries.com\",\n",
      "  \"johansson.wright@starkindustries.org\",\n",
      "  \"justan.mayer@virtucon.li\",\n",
      "  \"enrique.cross@lospolloshermanos.li\",\n",
      "  \"leno.baldwin@starkindustries.fi\",\n",
      "  \"atli.leonard@goldenstatuettes.party\",\n",
      "  \"jenson.greer@starkindustries.fi\",\n",
      "  \"dennis.avery@hungryhungyhippopottumoses.com\",\n",
      "  \"nassir.greer@cookykitchens.party\",\n",
      "  \"natan.fulton@amazonia.party\",\n",
      "  \"avraham.rice@gringottsbank.li\",\n",
      "  \"eljay.mays@cookykitchens.ug\",\n",
      "  \"mikee.garrison@bluthhousing.fi\",\n",
      "  \"aronas.willis@umbrellacorporation.se\",\n",
      "  \"seamas.jarvis@gringottsbank.co.uk\",\n",
      "  \"kaleem.pope@taitos.co.uk\",\n",
      "  \"callyn.robles@starkindustries.li\",\n",
      "  \"isira.vega@oscorp.party\",\n",
      "  \"salter.owen@goldenstatuettes.org\",\n",
      "  \"valo.solomon@tasavallanpresidentti.ug\",\n",
      "  \"jaymie.luna@oscorp.com\",\n",
      "  \"devin.cunningham@oscorp.zw\",\n",
      "  \"oluwafemi.sellers@starkindustries.org\",\n",
      "  \"keatin.kline@duffbeer.com\",\n",
      "  \"emile.sullivan@tortelloni.ss\",\n",
      "  \"bharath.witt@amazonia.ug\",\n",
      "  \"oakley.wyatt@dundermifflin.com\",\n",
      "  \"rexford.walker@goldenstatuettes.fi\",\n",
      "  \"nevin.french@taitos.ninja\",\n",
      "  \"presley.kim@tasavallanpresidentti.li\",\n",
      "  \"aldred.wiley@umbrellacorporation.com\",\n",
      "  \"lockey.zimmerman@gringottsbank.co.uk\",\n",
      "  \"marty.bryan@wonkaindustries.com\",\n",
      "  \"roan.owens@goldenstatuettes.li\",\n",
      "  \"zak.tanner@starkindustries.party\",\n",
      "  \"sajid.mckee@oscorp.com\",\n",
      "  \"shayan.lara@macrosloft.com\",\n",
      "  \"dayem.wolf@wonkaindustries.zw\",\n",
      "  \"jordan.alvarado@oscorp.se\",\n",
      "  \"yasin.montoya@wonkaindustries.hk\",\n",
      "  \"deshawn.sloan@haxhoont.se\",\n",
      "  \"ilyas.branch@umbrellacorporation.com\",\n",
      "  \"zakariya.vinson@gringottsbank.ug\",\n",
      "  \"modu.sampson@tasavallanpresidentti.ug\",\n",
      "  \"comghan.patrick@cookykitchens.ninja\",\n",
      "  \"isira.rodgers@virtucon.party\",\n",
      "  \"omri.sharpe@aperaturescience.ss\",\n",
      "  \"caelen.ballard@haxhoont.ss\",\n",
      "  \"thrinei.bentley@bluthhousing.ninja\",\n",
      "  \"calum.grimes@tortelloni.fi\",\n",
      "  \"j.wood@lospolloshermanos.com\",\n",
      "  \"tanner.massey@bluthhousing.li\",\n",
      "  \"david-jay.hickman@bluthhousing.fi\",\n",
      "  \"brett.yates@gringottsbank.ug\",\n",
      "  \"veeran.mcclure@haxhoont.ug\",\n",
      "  \"kogan.head@gringottsbank.se\",\n",
      "  \"darroch.rollins@dundermifflin.party\",\n",
      "  \"elliot.sims@tortelloni.org\",\n",
      "  \"oryn.webb@virtucon.ss\",\n",
      "  \"kienan.stokes@gringottsbank.co.uk\",\n",
      "  \"zachery.benson@tortelloni.org\",\n",
      "  \"mitch.whitley@amazonia.co.uk\",\n",
      "  \"rhyan.harrell@lospolloshermanos.party\",\n",
      "  \"vasyl.mendez@dundermifflin.hk\",\n",
      "  \"deecan.daugherty@taitos.zw\",\n",
      "  \"lewie.mcknight@oscorp.ss\",\n",
      "  \"mueez.bullock@oscorp.ninja\",\n",
      "  \"cieran.thornton@hungryhungyhippopottumoses.ss\",\n",
      "  \"nickhill.randolph@bluthhousing.org\",\n",
      "  \"samatar.baird@macrosloft.ninja\",\n",
      "  \"asim.joseph@lospolloshermanos.se\",\n",
      "  \"mir.henson@tortelloni.li\",\n",
      "  \"aytug.joyce@umbrellacorporation.ninja\",\n",
      "  \"oskar.willis@dundermifflin.ninja\",\n",
      "  \"mathias.bauer@taitos.party\",\n",
      "  \"kyaan.lang@goldenstatuettes.zw\",\n",
      "  \"zein.andrews@duffbeer.com\",\n",
      "  \"toby.kelley@umbrellacorporation.com\",\n",
      "  \"paul.bean@bluthhousing.ug\",\n",
      "  \"kaelum.price@gringottsbank.com\",\n",
      "  \"richie.shepard@virtucon.party\",\n",
      "  \"adil.terrell@cookykitchens.com\",\n",
      "  \"callyn.swanson@cookykitchens.ss\",\n",
      "  \"hyden.bowman@amazonia.ug\",\n",
      "  \"fergus.cantu@hungryhungyhippopottumoses.com\",\n",
      "  \"azaan.wood@umbrellacorporation.com\",\n",
      "  \"jura.hodges@amazonia.ninja\",\n",
      "  \"blyth.charles@oscorp.hk\",\n",
      "  \"martin.mcgee@wonkaindustries.party\",\n",
      "  \"okeoghene.rosales@lospolloshermanos.co.uk\",\n",
      "  \"shai.barrett@duffbeer.ug\",\n",
      "  \"kogan.newman@goldenstatuettes.co.uk\",\n",
      "  \"umair.robles@taitos.ug\",\n",
      "  \"reeve.velasquez@oscorp.com\",\n",
      "  \"angel.franklin@cookykitchens.co.uk\",\n",
      "  \"saman.osborne@virtucon.co.uk\",\n",
      "  \"sidney.rogers@lospolloshermanos.li\",\n",
      "  \"loui.haley@hungryhungyhippopottumoses.ss\",\n",
      "  \"sephiroth.robinson@virtucon.hk\",\n",
      "  \"pierce.pate@haxhoont.ninja\",\n",
      "  \"philippos.sloan@haxhoont.hk\",\n",
      "  \"gordon.greer@lospolloshermanos.com\",\n",
      "  \"josan.sandoval@dundermifflin.se\",\n",
      "  \"bruno.delacruz@gringottsbank.com\",\n",
      "  \"idris.carson@gringottsbank.zw\",\n",
      "  \"corey.melendez@haxhoont.com\",\n",
      "  \"otto.bell@virtucon.se\",\n",
      "  \"tymon.martinez@wonkaindustries.li\",\n",
      "  \"yahya.walker@bluthhousing.ninja\",\n",
      "  \"aran.morton@starkindustries.ninja\",\n",
      "  \"spondon.shepherd@amazonia.hk\",\n",
      "  \"marcello.carlson@gringottsbank.li\",\n",
      "  \"caileb-john.blair@macrosloft.hk\",\n",
      "  \"sean-ray.vazquez@goldenstatuettes.se\",\n",
      "  \"ireoluwa.bowers@goldenstatuettes.fi\",\n",
      "  \"boab.ochoa@aperaturescience.ninja\",\n",
      "  \"dharam.becker@goldenstatuettes.zw\",\n",
      "  \"gurthar.irwin@oscorp.se\",\n",
      "  \"barath.boyle@gringottsbank.co.uk\",\n",
      "  \"leo.harper@macrosloft.com\",\n",
      "  \"shergo.mendez@macrosloft.ninja\",\n",
      "  \"kyron.bowers@umbrellacorporation.ug\",\n",
      "  \"efe.mason@dundermifflin.party\",\n",
      "  \"dylan-patrick.melendez@wonkaindustries.com\",\n",
      "  \"seaan.gregory@virtucon.ug\",\n",
      "  \"maison.faulkner@taitos.li\",\n",
      "  \"gerard.talley@amazonia.org\",\n",
      "  \"sonni.carroll@starkindustries.co.uk\",\n",
      "  \"cole.boyd@lospolloshermanos.com\",\n",
      "  \"abdul-rehman.lewis@lospolloshermanos.ug\",\n",
      "  \"maximilian.cortez@gringottsbank.ug\",\n",
      "  \"jean.hensley@tortelloni.hk\",\n",
      "  \"lyle.shelton@umbrellacorporation.org\",\n",
      "  \"siddhant.shannon@taitos.li\",\n",
      "  \"joshiah.montoya@haxhoont.zw\",\n",
      "  \"stephen.hines@gringottsbank.fi\",\n",
      "  \"copeland.hartman@tasavallanpresidentti.li\",\n",
      "  \"feden.avery@bluthhousing.ug\",\n",
      "  \"sunny.odom@tortelloni.org\",\n",
      "  \"kiaran.cunningham@starkindustries.hk\",\n",
      "  \"kaison.kelly@virtucon.ug\",\n",
      "  \"girius.pierce@umbrellacorporation.ninja\",\n",
      "  \"brayden.walker@umbrellacorporation.com\",\n",
      "  \"campbell.vance@aperaturescience.li\",\n",
      "  \"rokas.durham@aperaturescience.co.uk\",\n",
      "  \"finley.emerson@aperaturescience.fi\",\n",
      "  \"fox.banks@virtucon.com\",\n",
      "  \"bradly.evans@starkindustries.party\",\n",
      "  \"liyonela-elam.sellers@tortelloni.ninja\",\n",
      "  \"vincenzo.singleton@hungryhungyhippopottumoses.co.uk\",\n",
      "  \"vince.brock@wonkaindustries.se\",\n",
      "  \"sohan.schultz@tortelloni.com\",\n",
      "  \"braydon.mcclain@starkindustries.li\",\n",
      "  \"jerry.bauer@dundermifflin.party\",\n",
      "  \"nicky.buckley@umbrellacorporation.co.uk\",\n",
      "  \"ruslan.bowen@umbrellacorporation.co.uk\",\n",
      "  \"reid.franklin@haxhoont.ninja\",\n",
      "  \"kale.dickerson@haxhoont.com\",\n",
      "  \"ammaar.gillespie@umbrellacorporation.fi\",\n",
      "  \"renars.mcleod@haxhoont.com\",\n",
      "  \"buddy.macdonald@hungryhungyhippopottumoses.com\",\n",
      "  \"ryleigh.mcguire@starkindustries.hk\",\n",
      "  \"zaid.wynn@dundermifflin.ss\",\n",
      "  \"hamish.fowler@amazonia.ss\",\n",
      "  \"tiernan.morales@umbrellacorporation.com\",\n",
      "  \"jac.pollard@taitos.zw\",\n",
      "  \"rupert.nunez@taitos.co.uk\",\n",
      "  \"havila.harrington@gringottsbank.hk\",\n",
      "  \"dale.meyers@lospolloshermanos.ug\",\n",
      "  \"zubair.carey@tasavallanpresidentti.ninja\",\n",
      "  \"christy.ortega@macrosloft.ninja\",\n",
      "  \"moad.hester@virtucon.co.uk\",\n",
      "  \"manas.byrd@aperaturescience.ninja\",\n",
      "  \"steve.petersen@umbrellacorporation.ninja\",\n",
      "  \"camerin.odonnell@aperaturescience.li\",\n",
      "  \"adenn.hanson@macrosloft.fi\",\n",
      "  \"sahaib.short@starkindustries.ss\",\n",
      "  \"carwyn.barry@macrosloft.hk\",\n",
      "  \"frazer.pennington@taitos.ug\",\n",
      "  \"conall.newman@gringottsbank.li\",\n",
      "  \"harman.branch@virtucon.ninja\",\n",
      "  \"tyler.keith@gringottsbank.ninja\",\n",
      "  \"pierce.chandler@wonkaindustries.com\",\n",
      "  \"graham.shepherd@virtucon.co.uk\",\n",
      "  \"inan.tillman@virtucon.zw\",\n",
      "  \"lael.mclean@oscorp.hk\",\n",
      "  \"donald.harrington@wonkaindustries.com\",\n",
      "  \"jesse.bright@lospolloshermanos.ss\",\n",
      "  \"arran.shepard@taitos.org\",\n",
      "  \"gurwinder.carpenter@umbrellacorporation.hk\",\n",
      "  \"aiman.mason@umbrellacorporation.zw\",\n",
      "  \"lloyd.deleon@aperaturescience.li\",\n",
      "  \"bryn.downs@bluthhousing.zw\",\n",
      "  \"thierry.owens@cookykitchens.ss\",\n",
      "  \"benny.schneider@dundermifflin.ug\",\n",
      "  \"bryden.holmes@aperaturescience.fi\",\n",
      "  \"zak.boyer@taitos.org\",\n",
      "  \"declan.guy@macrosloft.fi\",\n",
      "  \"soham.guthrie@taitos.ss\",\n",
      "  \"harrington.moreno@goldenstatuettes.ss\",\n",
      "  \"tanner.rivas@tortelloni.com\",\n",
      "  \"eriz.cox@taitos.com\",\n",
      "  \"sharland.stuart@aperaturescience.zw\",\n",
      "  \"gurwinder.dixon@bluthhousing.co.uk\",\n",
      "  \"keir.guthrie@bluthhousing.party\",\n",
      "  \"kenzie.greer@bluthhousing.fi\",\n",
      "  \"chin.orr@virtucon.se\",\n",
      "  \"ishwar.chen@bluthhousing.ug\",\n",
      "  \"loki.franco@umbrellacorporation.zw\",\n",
      "  \"ahmed.kirkland@macrosloft.party\",\n",
      "  \"diesel.simmons@cookykitchens.com\",\n",
      "  \"harman.carlson@starkindustries.ug\",\n",
      "  \"ardeshir.mckay@umbrellacorporation.ninja\",\n",
      "  \"keiran.rogers@virtucon.ninja\",\n",
      "  \"sonny.carpenter@tortelloni.fi\",\n",
      "  \"caley.sullivan@wonkaindustries.co.uk\",\n",
      "  \"humza.fleming@taitos.party\",\n",
      "  \"eesa.wilcox@oscorp.ug\",\n",
      "  \"jai-rajaram.wilson@cookykitchens.co.uk\",\n",
      "  \"olivier.gonzales@haxhoont.zw\",\n",
      "  \"reis.pugh@taitos.co.uk\",\n",
      "  \"liam-stephen.mcfarland@oscorp.com\",\n",
      "  \"arandeep.quinn@cookykitchens.fi\",\n",
      "  \"khizar.solomon@gringottsbank.co.uk\",\n",
      "  \"samarjit.duffy@starkindustries.zw\",\n",
      "  \"angel.dunlap@aperaturescience.com\",\n",
      "  \"yoji.sykes@wonkaindustries.party\",\n",
      "  \"elshan.gomez@goldenstatuettes.ss\",\n",
      "  \"mohd.dodson@virtucon.hk\",\n",
      "  \"jadyn.hunter@haxhoont.hk\",\n",
      "  \"kiaran.schwartz@gringottsbank.ninja\",\n",
      "  \"argyll.stein@bluthhousing.party\",\n",
      "  \"kole.jacobs@macrosloft.se\",\n",
      "  \"jordy.lane@lospolloshermanos.zw\",\n",
      "  \"wasif.rogers@gringottsbank.zw\",\n",
      "  \"carter.rich@tortelloni.ss\",\n",
      "  \"ryley.horne@wonkaindustries.com\",\n",
      "  \"rayane.buckley@amazonia.hk\",\n",
      "  \"geoffrey.crosby@tasavallanpresidentti.ninja\",\n",
      "  \"eesa.cox@bluthhousing.ug\",\n",
      "  \"josese.davenport@bluthhousing.co.uk\",\n",
      "  \"zaak.vang@haxhoont.party\",\n",
      "  \"robin.odonnell@cookykitchens.org\",\n",
      "  \"john.elliott@tasavallanpresidentti.ninja\",\n",
      "  \"shaurya.stephens@taitos.party\",\n",
      "  \"kyhran.vinson@hungryhungyhippopottumoses.com\",\n",
      "  \"loghan.vega@goldenstatuettes.fi\",\n",
      "  \"clyde.mccullough@oscorp.ss\",\n",
      "  \"miller.berg@haxhoont.co.uk\",\n"
     ]
    }
   ],
   "source": [
    "#First, let's read in the textfile\n",
    "with open(\"py_challenge.txt\") as file:\n",
    "    emails = file.readlines()[1:1001]\n",
    "\n",
    "#and remove any trailing characters at the end\n",
    "for row in emails:\n",
    "    row = row.rstrip()\n",
    "    print(row)"
   ]
  },
  {
   "cell_type": "markdown",
   "metadata": {},
   "source": [
    "#### 1.Everyone with the letter r in their last name is innocent."
   ]
  },
  {
   "cell_type": "markdown",
   "metadata": {},
   "source": [
    "Oh boy. This one was tricky as it is not enough to just count the number of innocent. <br>\n",
    "\n",
    "My idea was to make a data frame from the file and then add a new column \"last name\" to the df and after that remove the rows that contain \"r\". However, I was not successfull with this. "
   ]
  },
  {
   "cell_type": "markdown",
   "metadata": {},
   "source": [
    "#### 2. Emails with the top level domain co.uk that have a letter c in their full name are criminals\n",
    "\n"
   ]
  },
  {
   "cell_type": "code",
   "execution_count": 76,
   "metadata": {},
   "outputs": [
    {
     "name": "stdout",
     "output_type": "stream",
     "text": [
      "['  \"windsor.raymond@hungryhungyhippopottumoses.co.uk\",\\n', '  \"abdalroof.ray@oscorp.co.uk\",\\n', '  \"valen.henry@gringottsbank.co.uk\",\\n', '  \"leonardo.mcfadden@goldenstatuettes.co.uk\",\\n', '  \"noel.schneider@hungryhungyhippopottumoses.co.uk\",\\n', '  \"cruiz.simmons@cookykitchens.co.uk\",\\n', '  \"apisai.fletcher@oscorp.co.uk\",\\n', '  \"hector.moran@dundermifflin.co.uk\",\\n', '  \"dareh.grimes@macrosloft.co.uk\",\\n', '  \"kelan.yates@taitos.co.uk\",\\n', '  \"thomson.gonzales@bluthhousing.co.uk\",\\n', '  \"jazeb.kinney@duffbeer.co.uk\",\\n', '  \"deon.benson@cookykitchens.co.uk\",\\n', '  \"wesley.nunez@starkindustries.co.uk\",\\n', '  \"richie.bush@tortelloni.co.uk\",\\n', '  \"saifaddine.good@duffbeer.co.uk\",\\n', '  \"tyler-jay.dennis@duffbeer.co.uk\",\\n', '  \"muhamadjavad.gould@macrosloft.co.uk\",\\n', '  \"torsten.oneil@duffbeer.co.uk\",\\n', '  \"angus.bentley@cookykitchens.co.uk\",\\n', '  \"suraj.blackburn@amazonia.co.uk\",\\n', '  \"syed.stone@lospolloshermanos.co.uk\",\\n', '  \"alexei.solomon@taitos.co.uk\",\\n', '  \"marvin.cain@oscorp.co.uk\",\\n', '  \"omar.hebert@goldenstatuettes.co.uk\",\\n', '  \"lawson.gilliam@taitos.co.uk\",\\n', '  \"gianluca.bryan@goldenstatuettes.co.uk\",\\n', '  \"ciar.fields@tasavallanpresidentti.co.uk\",\\n', '  \"moyes.mcgee@dundermifflin.co.uk\",\\n', '  \"peirce.hill@starkindustries.co.uk\",\\n', '  \"dharam.barr@macrosloft.co.uk\",\\n', '  \"maksymilian.green@umbrellacorporation.co.uk\",\\n', '  \"joynul.morgan@bluthhousing.co.uk\",\\n', '  \"tomson.whitney@tortelloni.co.uk\",\\n', '  \"ohran.white@bluthhousing.co.uk\",\\n', '  \"jaydan.gill@dundermifflin.co.uk\",\\n', '  \"rheyden.compton@bluthhousing.co.uk\",\\n', '  \"adegbolahan.copeland@hungryhungyhippopottumoses.co.uk\",\\n', '  \"etienne.cash@hungryhungyhippopottumoses.co.uk\",\\n', '  \"mohammad-bilal.carlson@goldenstatuettes.co.uk\",\\n', '  \"bobby-lee.jenkins@cookykitchens.co.uk\",\\n', '  \"kohen.eaton@bluthhousing.co.uk\",\\n', '  \"fahad.farrell@cookykitchens.co.uk\",\\n', '  \"abbas.weber@wonkaindustries.co.uk\",\\n', '  \"aarez.hull@duffbeer.co.uk\",\\n', '  \"mungo.benjamin@haxhoont.co.uk\",\\n', '  \"denny.logan@goldenstatuettes.co.uk\",\\n', '  \"lepeng.mcfadden@wonkaindustries.co.uk\",\\n', '  \"rorie.lara@tortelloni.co.uk\",\\n', '  \"irvin.arnold@wonkaindustries.co.uk\",\\n', '  \"arron.gilmore@aperaturescience.co.uk\",\\n', '  \"muzammil.sharpe@starkindustries.co.uk\",\\n', '  \"jebadiah.pugh@hungryhungyhippopottumoses.co.uk\",\\n', '  \"rajab-ali.floyd@tasavallanpresidentti.co.uk\",\\n', '  \"connor.velasquez@wonkaindustries.co.uk\",\\n', '  \"kit.best@gringottsbank.co.uk\",\\n', '  \"seamas.jarvis@gringottsbank.co.uk\",\\n', '  \"kaleem.pope@taitos.co.uk\",\\n', '  \"lockey.zimmerman@gringottsbank.co.uk\",\\n', '  \"kienan.stokes@gringottsbank.co.uk\",\\n', '  \"mitch.whitley@amazonia.co.uk\",\\n', '  \"okeoghene.rosales@lospolloshermanos.co.uk\",\\n', '  \"kogan.newman@goldenstatuettes.co.uk\",\\n', '  \"angel.franklin@cookykitchens.co.uk\",\\n', '  \"saman.osborne@virtucon.co.uk\",\\n', '  \"barath.boyle@gringottsbank.co.uk\",\\n', '  \"sonni.carroll@starkindustries.co.uk\",\\n', '  \"rokas.durham@aperaturescience.co.uk\",\\n', '  \"vincenzo.singleton@hungryhungyhippopottumoses.co.uk\",\\n', '  \"nicky.buckley@umbrellacorporation.co.uk\",\\n', '  \"ruslan.bowen@umbrellacorporation.co.uk\",\\n', '  \"rupert.nunez@taitos.co.uk\",\\n', '  \"moad.hester@virtucon.co.uk\",\\n', '  \"graham.shepherd@virtucon.co.uk\",\\n', '  \"gurwinder.dixon@bluthhousing.co.uk\",\\n', '  \"caley.sullivan@wonkaindustries.co.uk\",\\n', '  \"jai-rajaram.wilson@cookykitchens.co.uk\",\\n', '  \"reis.pugh@taitos.co.uk\",\\n', '  \"khizar.solomon@gringottsbank.co.uk\",\\n', '  \"josese.davenport@bluthhousing.co.uk\",\\n', '  \"miller.berg@haxhoont.co.uk\",\\n']\n"
     ]
    }
   ],
   "source": [
    "#Let's create a list of emails that have \"co.uk\" in them\n",
    "co = [num for num in emails if 'co.uk' in num]\n",
    "print(co)"
   ]
  },
  {
   "cell_type": "code",
   "execution_count": 77,
   "metadata": {},
   "outputs": [
    {
     "data": {
      "text/plain": [
       "81"
      ]
     },
     "execution_count": 77,
     "metadata": {},
     "output_type": "execute_result"
    }
   ],
   "source": [
    "#Now let's count the number of emails\n",
    "len(co)"
   ]
  },
  {
   "cell_type": "code",
   "execution_count": 82,
   "metadata": {},
   "outputs": [
    {
     "name": "stdout",
     "output_type": "stream",
     "text": [
      "['  \"windsor.raymond', '  \"abdalroof.ray', '  \"valen.henry', '  \"leonardo.mcfadden', '  \"noel.schneider', '  \"cruiz.simmons', '  \"apisai.fletcher', '  \"hector.moran', '  \"dareh.grimes', '  \"kelan.yates', '  \"thomson.gonzales', '  \"jazeb.kinney', '  \"deon.benson', '  \"wesley.nunez', '  \"richie.bush', '  \"saifaddine.good', '  \"tyler-jay.dennis', '  \"muhamadjavad.gould', '  \"torsten.oneil', '  \"angus.bentley', '  \"suraj.blackburn', '  \"syed.stone', '  \"alexei.solomon', '  \"marvin.cain', '  \"omar.hebert', '  \"lawson.gilliam', '  \"gianluca.bryan', '  \"ciar.fields', '  \"moyes.mcgee', '  \"peirce.hill', '  \"dharam.barr', '  \"maksymilian.green', '  \"joynul.morgan', '  \"tomson.whitney', '  \"ohran.white', '  \"jaydan.gill', '  \"rheyden.compton', '  \"adegbolahan.copeland', '  \"etienne.cash', '  \"mohammad-bilal.carlson', '  \"bobby-lee.jenkins', '  \"kohen.eaton', '  \"fahad.farrell', '  \"abbas.weber', '  \"aarez.hull', '  \"mungo.benjamin', '  \"denny.logan', '  \"lepeng.mcfadden', '  \"rorie.lara', '  \"irvin.arnold', '  \"arron.gilmore', '  \"muzammil.sharpe', '  \"jebadiah.pugh', '  \"rajab-ali.floyd', '  \"connor.velasquez', '  \"kit.best', '  \"seamas.jarvis', '  \"kaleem.pope', '  \"lockey.zimmerman', '  \"kienan.stokes', '  \"mitch.whitley', '  \"okeoghene.rosales', '  \"kogan.newman', '  \"angel.franklin', '  \"saman.osborne', '  \"barath.boyle', '  \"sonni.carroll', '  \"rokas.durham', '  \"vincenzo.singleton', '  \"nicky.buckley', '  \"ruslan.bowen', '  \"rupert.nunez', '  \"moad.hester', '  \"graham.shepherd', '  \"gurwinder.dixon', '  \"caley.sullivan', '  \"jai-rajaram.wilson', '  \"reis.pugh', '  \"khizar.solomon', '  \"josese.davenport', '  \"miller.berg']\n"
     ]
    }
   ],
   "source": [
    "#Next we will need to split the first and last name from the email domain\n",
    "co = [i.split('@')[0] for i in co]\n",
    "print (co)"
   ]
  },
  {
   "cell_type": "code",
   "execution_count": 83,
   "metadata": {},
   "outputs": [
    {
     "name": "stdout",
     "output_type": "stream",
     "text": [
      "['  \"leonardo.mcfadden', '  \"noel.schneider', '  \"cruiz.simmons', '  \"apisai.fletcher', '  \"hector.moran', '  \"richie.bush', '  \"suraj.blackburn', '  \"marvin.cain', '  \"gianluca.bryan', '  \"ciar.fields', '  \"moyes.mcgee', '  \"peirce.hill', '  \"rheyden.compton', '  \"adegbolahan.copeland', '  \"etienne.cash', '  \"mohammad-bilal.carlson', '  \"lepeng.mcfadden', '  \"connor.velasquez', '  \"lockey.zimmerman', '  \"mitch.whitley', '  \"sonni.carroll', '  \"vincenzo.singleton', '  \"nicky.buckley', '  \"caley.sullivan']\n"
     ]
    }
   ],
   "source": [
    "#Let's display all names that have letter \"c\" in them \n",
    "c = [num for num in co if 'c' in num]\n",
    "print(c)"
   ]
  },
  {
   "cell_type": "code",
   "execution_count": 84,
   "metadata": {},
   "outputs": [
    {
     "data": {
      "text/plain": [
       "24"
      ]
     },
     "execution_count": 84,
     "metadata": {},
     "output_type": "execute_result"
    }
   ],
   "source": [
    "#Count of potential criminals\n",
    "len(c)"
   ]
  },
  {
   "cell_type": "code",
   "execution_count": 85,
   "metadata": {},
   "outputs": [
    {
     "name": "stdout",
     "output_type": "stream",
     "text": [
      "['mcfadden', 'schneider', 'simmons', 'fletcher', 'moran', 'bush', 'blackburn', 'cain', 'bryan', 'fields', 'mcgee', 'hill', 'compton', 'copeland', 'cash', 'carlson', 'mcfadden', 'velasquez', 'zimmerman', 'whitley', 'carroll', 'singleton', 'buckley', 'sullivan']\n"
     ]
    }
   ],
   "source": [
    "#Next, let's take a look at the last names only\n",
    "c2 = [i.split('.')[1] for i in c]\n",
    "print (c2)"
   ]
  },
  {
   "cell_type": "code",
   "execution_count": 86,
   "metadata": {},
   "outputs": [
    {
     "name": "stdout",
     "output_type": "stream",
     "text": [
      "['schneider', 'fletcher', 'moran', 'blackburn', 'bryan', 'carlson', 'zimmerman', 'carroll']\n"
     ]
    }
   ],
   "source": [
    "#Now we will check all names with 'r' in their last name, since they are innocent\n",
    "c3 = [num for num in c2 if 'r' in num]\n",
    "print(c3)"
   ]
  },
  {
   "cell_type": "code",
   "execution_count": 11,
   "metadata": {},
   "outputs": [
    {
     "data": {
      "text/plain": [
       "8"
      ]
     },
     "execution_count": 11,
     "metadata": {},
     "output_type": "execute_result"
    }
   ],
   "source": [
    "#Count of innocent\n",
    "len(c3)"
   ]
  },
  {
   "cell_type": "code",
   "execution_count": 87,
   "metadata": {},
   "outputs": [
    {
     "data": {
      "text/plain": [
       "16"
      ]
     },
     "execution_count": 87,
     "metadata": {},
     "output_type": "execute_result"
    }
   ],
   "source": [
    "#Count of criminals\n",
    "24-8"
   ]
  },
  {
   "cell_type": "markdown",
   "metadata": {},
   "source": [
    "#### 3.Everyone from wonkaindustries or gringottsbank are criminals unless their first name is shorter than 4 characters."
   ]
  },
  {
   "cell_type": "code",
   "execution_count": 88,
   "metadata": {},
   "outputs": [
    {
     "name": "stdout",
     "output_type": "stream",
     "text": [
      "['  \"joash.duffy@wonkaindustries.ug\",\\n', '  \"taylor-jay.blackburn@wonkaindustries.ug\",\\n', '  \"skye.soto@wonkaindustries.se\",\\n', '  \"logan.parrish@wonkaindustries.com\",\\n', '  \"parkash.juarez@wonkaindustries.party\",\\n', '  \"khizar.phillips@wonkaindustries.ug\",\\n', '  \"shai.bernard@wonkaindustries.ug\",\\n', '  \"caileb-john.mcintosh@wonkaindustries.ninja\",\\n', '  \"sulayman.richard@wonkaindustries.fi\",\\n', '  \"zeek.fry@wonkaindustries.ss\",\\n', '  \"kavin.hurst@wonkaindustries.ninja\",\\n', '  \"filippo.herring@wonkaindustries.party\",\\n', '  \"oilibhear.kerr@wonkaindustries.com\",\\n', '  \"aon.neal@wonkaindustries.zw\",\\n', '  \"ronnie.sandoval@wonkaindustries.com\",\\n', '  \"blessing.walter@wonkaindustries.party\",\\n', '  \"daren.pearson@wonkaindustries.zw\",\\n', '  \"lucian.coffey@wonkaindustries.com\",\\n', '  \"vasyl.cortez@wonkaindustries.org\",\\n', '  \"hirvaansh.hall@wonkaindustries.ug\",\\n', '  \"aun.howe@wonkaindustries.ug\",\\n', '  \"eden.leach@wonkaindustries.com\",\\n', '  \"brogan.montoya@wonkaindustries.fi\",\\n', '  \"niro.ware@wonkaindustries.se\",\\n', '  \"jean-pierre.glover@wonkaindustries.ss\",\\n', '  \"abbas.weber@wonkaindustries.co.uk\",\\n', '  \"greig.barlow@wonkaindustries.ss\",\\n', '  \"jedd.rodriguez@wonkaindustries.se\",\\n', '  \"daegan.kline@wonkaindustries.zw\",\\n', '  \"johannes.wilkinson@wonkaindustries.zw\",\\n', '  \"lincon.morrison@wonkaindustries.li\",\\n', '  \"lepeng.mcfadden@wonkaindustries.co.uk\",\\n', '  \"irvin.arnold@wonkaindustries.co.uk\",\\n', '  \"dex.hill@wonkaindustries.li\",\\n', '  \"dissanayake.rose@wonkaindustries.ninja\",\\n', '  \"connor.velasquez@wonkaindustries.co.uk\",\\n', '  \"marty.bryan@wonkaindustries.com\",\\n', '  \"dayem.wolf@wonkaindustries.zw\",\\n', '  \"yasin.montoya@wonkaindustries.hk\",\\n', '  \"martin.mcgee@wonkaindustries.party\",\\n', '  \"tymon.martinez@wonkaindustries.li\",\\n', '  \"dylan-patrick.melendez@wonkaindustries.com\",\\n', '  \"vince.brock@wonkaindustries.se\",\\n', '  \"pierce.chandler@wonkaindustries.com\",\\n', '  \"donald.harrington@wonkaindustries.com\",\\n', '  \"caley.sullivan@wonkaindustries.co.uk\",\\n', '  \"yoji.sykes@wonkaindustries.party\",\\n', '  \"ryley.horne@wonkaindustries.com\",\\n']\n"
     ]
    }
   ],
   "source": [
    "#Let's create a list of emails that have \"wonkaidustries\"in them\n",
    "wonka = [num for num in emails if 'wonkaindustries' in num]\n",
    "print(wonka)"
   ]
  },
  {
   "cell_type": "code",
   "execution_count": 89,
   "metadata": {},
   "outputs": [
    {
     "name": "stdout",
     "output_type": "stream",
     "text": [
      "['  \"joash.duffy', '  \"taylor-jay.blackburn', '  \"skye.soto', '  \"logan.parrish', '  \"parkash.juarez', '  \"khizar.phillips', '  \"shai.bernard', '  \"caileb-john.mcintosh', '  \"sulayman.richard', '  \"zeek.fry', '  \"kavin.hurst', '  \"filippo.herring', '  \"oilibhear.kerr', '  \"aon.neal', '  \"ronnie.sandoval', '  \"blessing.walter', '  \"daren.pearson', '  \"lucian.coffey', '  \"vasyl.cortez', '  \"hirvaansh.hall', '  \"aun.howe', '  \"eden.leach', '  \"brogan.montoya', '  \"niro.ware', '  \"jean-pierre.glover', '  \"abbas.weber', '  \"greig.barlow', '  \"jedd.rodriguez', '  \"daegan.kline', '  \"johannes.wilkinson', '  \"lincon.morrison', '  \"lepeng.mcfadden', '  \"irvin.arnold', '  \"dex.hill', '  \"dissanayake.rose', '  \"connor.velasquez', '  \"marty.bryan', '  \"dayem.wolf', '  \"yasin.montoya', '  \"martin.mcgee', '  \"tymon.martinez', '  \"dylan-patrick.melendez', '  \"vince.brock', '  \"pierce.chandler', '  \"donald.harrington', '  \"caley.sullivan', '  \"yoji.sykes', '  \"ryley.horne']\n"
     ]
    }
   ],
   "source": [
    "#Next we will need to again split the first and last name from the email domain\n",
    "wonka_new = [i.split('@')[0] for i in wonka]\n",
    "print (wonka_new)"
   ]
  },
  {
   "cell_type": "code",
   "execution_count": 90,
   "metadata": {},
   "outputs": [
    {
     "name": "stdout",
     "output_type": "stream",
     "text": [
      "['  \"joash', '  \"taylor-jay', '  \"skye', '  \"logan', '  \"parkash', '  \"khizar', '  \"shai', '  \"caileb-john', '  \"sulayman', '  \"zeek', '  \"kavin', '  \"filippo', '  \"oilibhear', '  \"aon', '  \"ronnie', '  \"blessing', '  \"daren', '  \"lucian', '  \"vasyl', '  \"hirvaansh', '  \"aun', '  \"eden', '  \"brogan', '  \"niro', '  \"jean-pierre', '  \"abbas', '  \"greig', '  \"jedd', '  \"daegan', '  \"johannes', '  \"lincon', '  \"lepeng', '  \"irvin', '  \"dex', '  \"dissanayake', '  \"connor', '  \"marty', '  \"dayem', '  \"yasin', '  \"martin', '  \"tymon', '  \"dylan-patrick', '  \"vince', '  \"pierce', '  \"donald', '  \"caley', '  \"yoji', '  \"ryley']\n"
     ]
    }
   ],
   "source": [
    "#Next we will need to additionally split the first name from the last name\n",
    "wonka_new_2 = [i.split('.')[0] for i in wonka_new]\n",
    "print (wonka_new_2)"
   ]
  },
  {
   "cell_type": "code",
   "execution_count": 91,
   "metadata": {},
   "outputs": [
    {
     "data": {
      "text/plain": [
       "48"
      ]
     },
     "execution_count": 91,
     "metadata": {},
     "output_type": "execute_result"
    }
   ],
   "source": [
    "len(wonka_new_2)"
   ]
  },
  {
   "cell_type": "code",
   "execution_count": 116,
   "metadata": {},
   "outputs": [
    {
     "name": "stdout",
     "output_type": "stream",
     "text": [
      "['  \"joash', '  \"taylor-jay', '  \"skye', '  \"logan', '  \"parkash', '  \"khizar', '  \"shai', '  \"caileb-john', '  \"sulayman', '  \"zeek', '  \"kavin', '  \"filippo', '  \"oilibhear', '  \"ronnie', '  \"blessing', '  \"daren', '  \"lucian', '  \"vasyl', '  \"hirvaansh', '  \"eden', '  \"brogan', '  \"niro', '  \"jean-pierre', '  \"abbas', '  \"greig', '  \"jedd', '  \"daegan', '  \"johannes', '  \"lincon', '  \"lepeng', '  \"irvin', '  \"dissanayake', '  \"connor', '  \"marty', '  \"dayem', '  \"yasin', '  \"martin', '  \"tymon', '  \"dylan-patrick', '  \"vince', '  \"pierce', '  \"donald', '  \"caley', '  \"yoji', '  \"ryley']\n"
     ]
    }
   ],
   "source": [
    "#Let's chech all names that have more than 3 characters in order to resolve the potential criminals\n",
    "wonka_new_3 = []\n",
    "for i in wonka_new_2:\n",
    "    if len(i) > 6: #As we have some extra marks in the list of strings, we need to take that into account and use number 6 \n",
    "        wonka_new_3.append(i) \n",
    "print(wonka_new_3)"
   ]
  },
  {
   "cell_type": "code",
   "execution_count": 117,
   "metadata": {},
   "outputs": [
    {
     "data": {
      "text/plain": [
       "45"
      ]
     },
     "execution_count": 117,
     "metadata": {},
     "output_type": "execute_result"
    }
   ],
   "source": [
    "len(wonka_new_3)"
   ]
  },
  {
   "cell_type": "markdown",
   "metadata": {},
   "source": [
    "#### Chec for the innocent"
   ]
  },
  {
   "cell_type": "code",
   "execution_count": 121,
   "metadata": {},
   "outputs": [
    {
     "name": "stdout",
     "output_type": "stream",
     "text": [
      "['duffy', 'blackburn', 'soto', 'parrish', 'juarez', 'phillips', 'bernard', 'mcintosh', 'richard', 'fry', 'hurst', 'herring', 'kerr', 'neal', 'sandoval', 'walter', 'pearson', 'coffey', 'cortez', 'hall', 'howe', 'leach', 'montoya', 'ware', 'glover', 'weber', 'barlow', 'rodriguez', 'kline', 'wilkinson', 'morrison', 'mcfadden', 'arnold', 'hill', 'rose', 'velasquez', 'bryan', 'wolf', 'montoya', 'mcgee', 'martinez', 'melendez', 'brock', 'chandler', 'harrington', 'sullivan', 'sykes', 'horne']\n"
     ]
    }
   ],
   "source": [
    "#Let's take a look at the last names\n",
    "wonka_new_4 = [i.split('.')[1] for i in wonka_new]\n",
    "print (wonka_new_4)"
   ]
  },
  {
   "cell_type": "code",
   "execution_count": 95,
   "metadata": {},
   "outputs": [
    {
     "name": "stdout",
     "output_type": "stream",
     "text": [
      "['blackburn', 'parrish', 'juarez', 'bernard', 'richard', 'fry', 'hurst', 'herring', 'kerr', 'walter', 'pearson', 'cortez', 'ware', 'glover', 'weber', 'barlow', 'rodriguez', 'morrison', 'arnold', 'rose', 'bryan', 'martinez', 'brock', 'chandler', 'harrington', 'horne']\n"
     ]
    }
   ],
   "source": [
    "#And see how many last names with have that contain letter 'r'\n",
    "w = [num for num in wonka_new_3 if 'r' in num]\n",
    "print(w)"
   ]
  },
  {
   "cell_type": "code",
   "execution_count": 96,
   "metadata": {},
   "outputs": [
    {
     "data": {
      "text/plain": [
       "26"
      ]
     },
     "execution_count": 96,
     "metadata": {},
     "output_type": "execute_result"
    }
   ],
   "source": [
    "len(w)"
   ]
  },
  {
   "cell_type": "code",
   "execution_count": 97,
   "metadata": {},
   "outputs": [
    {
     "data": {
      "text/plain": [
       "19"
      ]
     },
     "execution_count": 97,
     "metadata": {},
     "output_type": "execute_result"
    }
   ],
   "source": [
    "#Count of criminals\n",
    "45-26"
   ]
  },
  {
   "cell_type": "code",
   "execution_count": 98,
   "metadata": {},
   "outputs": [
    {
     "name": "stdout",
     "output_type": "stream",
     "text": [
      "['  \"jaime.freeman@gringottsbank.li\",\\n', '  \"valen.henry@gringottsbank.co.uk\",\\n', '  \"archibald.elliott@gringottsbank.hk\",\\n', '  \"reno.silva@gringottsbank.ug\",\\n', '  \"jonothan.donaldson@gringottsbank.zw\",\\n', '  \"kenton.conley@gringottsbank.ninja\",\\n', '  \"fraser.ware@gringottsbank.fi\",\\n', '  \"ami.wyatt@gringottsbank.zw\",\\n', '  \"dylin.noble@gringottsbank.ss\",\\n', '  \"cayden-robert.gay@gringottsbank.ss\",\\n', '  \"saman.rodriguez@gringottsbank.ss\",\\n', '  \"samar.petersen@gringottsbank.com\",\\n', '  \"hunter.kinney@gringottsbank.org\",\\n', '  \"ker.joseph@gringottsbank.fi\",\\n', '  \"zander.cleveland@gringottsbank.ss\",\\n', '  \"joshiah.mckenzie@gringottsbank.zw\",\\n', '  \"munmair.padilla@gringottsbank.party\",\\n', '  \"cristian.meyer@gringottsbank.li\",\\n', '  \"hamish.rosa@gringottsbank.org\",\\n', '  \"robert.britt@gringottsbank.com\",\\n', '  \"eden.luna@gringottsbank.hk\",\\n', '  \"mathuyan.mcbride@gringottsbank.com\",\\n', '  \"hansen.vasquez@gringottsbank.org\",\\n', '  \"calvin.graham@gringottsbank.zw\",\\n', '  \"stewart.sears@gringottsbank.se\",\\n', '  \"aref.bass@gringottsbank.ss\",\\n', '  \"codie.frost@gringottsbank.party\",\\n', '  \"gary.leon@gringottsbank.party\",\\n', '  \"rajab-ali.pittman@gringottsbank.com\",\\n', '  \"bjorn.yates@gringottsbank.ug\",\\n', '  \"innes.stanton@gringottsbank.ninja\",\\n', '  \"brooklin.herring@gringottsbank.com\",\\n', '  \"loudon.franks@gringottsbank.zw\",\\n', '  \"abdul-aziz.mcconnell@gringottsbank.ninja\",\\n', '  \"julien.holden@gringottsbank.party\",\\n', '  \"coel.key@gringottsbank.com\",\\n', '  \"shawnpaul.tucker@gringottsbank.ninja\",\\n', '  \"zackary.moody@gringottsbank.li\",\\n', '  \"robi.franklin@gringottsbank.zw\",\\n', '  \"derryn.tran@gringottsbank.zw\",\\n', '  \"jayson.newton@gringottsbank.zw\",\\n', '  \"kit.best@gringottsbank.co.uk\",\\n', '  \"avraham.rice@gringottsbank.li\",\\n', '  \"seamas.jarvis@gringottsbank.co.uk\",\\n', '  \"lockey.zimmerman@gringottsbank.co.uk\",\\n', '  \"zakariya.vinson@gringottsbank.ug\",\\n', '  \"brett.yates@gringottsbank.ug\",\\n', '  \"kogan.head@gringottsbank.se\",\\n', '  \"kienan.stokes@gringottsbank.co.uk\",\\n', '  \"kaelum.price@gringottsbank.com\",\\n', '  \"bruno.delacruz@gringottsbank.com\",\\n', '  \"idris.carson@gringottsbank.zw\",\\n', '  \"marcello.carlson@gringottsbank.li\",\\n', '  \"barath.boyle@gringottsbank.co.uk\",\\n', '  \"maximilian.cortez@gringottsbank.ug\",\\n', '  \"stephen.hines@gringottsbank.fi\",\\n', '  \"havila.harrington@gringottsbank.hk\",\\n', '  \"conall.newman@gringottsbank.li\",\\n', '  \"tyler.keith@gringottsbank.ninja\",\\n', '  \"khizar.solomon@gringottsbank.co.uk\",\\n', '  \"kiaran.schwartz@gringottsbank.ninja\",\\n', '  \"wasif.rogers@gringottsbank.zw\",\\n']\n"
     ]
    }
   ],
   "source": [
    "#Now let's do the same for gringottsbank\n",
    "gringo = [num for num in emails if 'gringottsbank' in num]\n",
    "print(gringo)"
   ]
  },
  {
   "cell_type": "code",
   "execution_count": 99,
   "metadata": {},
   "outputs": [
    {
     "name": "stdout",
     "output_type": "stream",
     "text": [
      "['  \"jaime.freeman', '  \"valen.henry', '  \"archibald.elliott', '  \"reno.silva', '  \"jonothan.donaldson', '  \"kenton.conley', '  \"fraser.ware', '  \"ami.wyatt', '  \"dylin.noble', '  \"cayden-robert.gay', '  \"saman.rodriguez', '  \"samar.petersen', '  \"hunter.kinney', '  \"ker.joseph', '  \"zander.cleveland', '  \"joshiah.mckenzie', '  \"munmair.padilla', '  \"cristian.meyer', '  \"hamish.rosa', '  \"robert.britt', '  \"eden.luna', '  \"mathuyan.mcbride', '  \"hansen.vasquez', '  \"calvin.graham', '  \"stewart.sears', '  \"aref.bass', '  \"codie.frost', '  \"gary.leon', '  \"rajab-ali.pittman', '  \"bjorn.yates', '  \"innes.stanton', '  \"brooklin.herring', '  \"loudon.franks', '  \"abdul-aziz.mcconnell', '  \"julien.holden', '  \"coel.key', '  \"shawnpaul.tucker', '  \"zackary.moody', '  \"robi.franklin', '  \"derryn.tran', '  \"jayson.newton', '  \"kit.best', '  \"avraham.rice', '  \"seamas.jarvis', '  \"lockey.zimmerman', '  \"zakariya.vinson', '  \"brett.yates', '  \"kogan.head', '  \"kienan.stokes', '  \"kaelum.price', '  \"bruno.delacruz', '  \"idris.carson', '  \"marcello.carlson', '  \"barath.boyle', '  \"maximilian.cortez', '  \"stephen.hines', '  \"havila.harrington', '  \"conall.newman', '  \"tyler.keith', '  \"khizar.solomon', '  \"kiaran.schwartz', '  \"wasif.rogers']\n"
     ]
    }
   ],
   "source": [
    "#Next we will need to again split the first and last name from the email domain\n",
    "gringo_new = [i.split('@')[0] for i in gringo]\n",
    "print (gringo_new)"
   ]
  },
  {
   "cell_type": "code",
   "execution_count": 100,
   "metadata": {},
   "outputs": [
    {
     "name": "stdout",
     "output_type": "stream",
     "text": [
      "['  \"jaime', '  \"valen', '  \"archibald', '  \"reno', '  \"jonothan', '  \"kenton', '  \"fraser', '  \"ami', '  \"dylin', '  \"cayden-robert', '  \"saman', '  \"samar', '  \"hunter', '  \"ker', '  \"zander', '  \"joshiah', '  \"munmair', '  \"cristian', '  \"hamish', '  \"robert', '  \"eden', '  \"mathuyan', '  \"hansen', '  \"calvin', '  \"stewart', '  \"aref', '  \"codie', '  \"gary', '  \"rajab-ali', '  \"bjorn', '  \"innes', '  \"brooklin', '  \"loudon', '  \"abdul-aziz', '  \"julien', '  \"coel', '  \"shawnpaul', '  \"zackary', '  \"robi', '  \"derryn', '  \"jayson', '  \"kit', '  \"avraham', '  \"seamas', '  \"lockey', '  \"zakariya', '  \"brett', '  \"kogan', '  \"kienan', '  \"kaelum', '  \"bruno', '  \"idris', '  \"marcello', '  \"barath', '  \"maximilian', '  \"stephen', '  \"havila', '  \"conall', '  \"tyler', '  \"khizar', '  \"kiaran', '  \"wasif']\n"
     ]
    }
   ],
   "source": [
    "#Next we will need to additionally split the first name from the last name\n",
    "gringo_new_2 = [i.split('.')[0] for i in gringo_new]\n",
    "print (gringo_new_2)"
   ]
  },
  {
   "cell_type": "code",
   "execution_count": 101,
   "metadata": {},
   "outputs": [
    {
     "data": {
      "text/plain": [
       "62"
      ]
     },
     "execution_count": 101,
     "metadata": {},
     "output_type": "execute_result"
    }
   ],
   "source": [
    "#Let's check how many names we have in the list\n",
    "len(gringo_new_2)"
   ]
  },
  {
   "cell_type": "code",
   "execution_count": 123,
   "metadata": {},
   "outputs": [
    {
     "name": "stdout",
     "output_type": "stream",
     "text": [
      "['  \"jaime', '  \"valen', '  \"archibald', '  \"reno', '  \"jonothan', '  \"kenton', '  \"fraser', '  \"dylin', '  \"cayden-robert', '  \"saman', '  \"samar', '  \"hunter', '  \"zander', '  \"joshiah', '  \"munmair', '  \"cristian', '  \"hamish', '  \"robert', '  \"eden', '  \"mathuyan', '  \"hansen', '  \"calvin', '  \"stewart', '  \"aref', '  \"codie', '  \"gary', '  \"rajab-ali', '  \"bjorn', '  \"innes', '  \"brooklin', '  \"loudon', '  \"abdul-aziz', '  \"julien', '  \"coel', '  \"shawnpaul', '  \"zackary', '  \"robi', '  \"derryn', '  \"jayson', '  \"avraham', '  \"seamas', '  \"lockey', '  \"zakariya', '  \"brett', '  \"kogan', '  \"kienan', '  \"kaelum', '  \"bruno', '  \"idris', '  \"marcello', '  \"barath', '  \"maximilian', '  \"stephen', '  \"havila', '  \"conall', '  \"tyler', '  \"khizar', '  \"kiaran', '  \"wasif']\n"
     ]
    }
   ],
   "source": [
    "#Let's check all names with over 3 charachters.\n",
    "#As we have some extra marks in the list of strings, we need to use 6 instead of 3 in this case\n",
    "y = []\n",
    "for i in gringo_new_2:\n",
    "    if len(i) > 6:\n",
    "        y.append(i) \n",
    "print(y)"
   ]
  },
  {
   "cell_type": "code",
   "execution_count": 103,
   "metadata": {},
   "outputs": [
    {
     "data": {
      "text/plain": [
       "59"
      ]
     },
     "execution_count": 103,
     "metadata": {},
     "output_type": "execute_result"
    }
   ],
   "source": [
    "len(y)"
   ]
  },
  {
   "cell_type": "markdown",
   "metadata": {},
   "source": [
    "#### Check for the innocent"
   ]
  },
  {
   "cell_type": "code",
   "execution_count": 104,
   "metadata": {},
   "outputs": [
    {
     "name": "stdout",
     "output_type": "stream",
     "text": [
      "['freeman', 'henry', 'elliott', 'silva', 'donaldson', 'conley', 'ware', 'wyatt', 'noble', 'gay', 'rodriguez', 'petersen', 'kinney', 'joseph', 'cleveland', 'mckenzie', 'padilla', 'meyer', 'rosa', 'britt', 'luna', 'mcbride', 'vasquez', 'graham', 'sears', 'bass', 'frost', 'leon', 'pittman', 'yates', 'stanton', 'herring', 'franks', 'mcconnell', 'holden', 'key', 'tucker', 'moody', 'franklin', 'tran', 'newton', 'best', 'rice', 'jarvis', 'zimmerman', 'vinson', 'yates', 'head', 'stokes', 'price', 'delacruz', 'carson', 'carlson', 'boyle', 'cortez', 'hines', 'harrington', 'newman', 'keith', 'solomon', 'schwartz', 'rogers']\n"
     ]
    }
   ],
   "source": [
    "#Let's again check for the innocent ones that have 'r' in their last name\n",
    "gringo_new_3 = [i.split('.')[1] for i in gringo_new]\n",
    "print (gringo_new_3)"
   ]
  },
  {
   "cell_type": "code",
   "execution_count": 105,
   "metadata": {},
   "outputs": [
    {
     "name": "stdout",
     "output_type": "stream",
     "text": [
      "['freeman', 'henry', 'ware', 'rodriguez', 'petersen', 'meyer', 'rosa', 'britt', 'mcbride', 'graham', 'sears', 'frost', 'herring', 'franks', 'tucker', 'franklin', 'tran', 'rice', 'jarvis', 'zimmerman', 'price', 'delacruz', 'carson', 'carlson', 'cortez', 'harrington', 'schwartz', 'rogers']\n"
     ]
    }
   ],
   "source": [
    "g = [num for num in gringo_new_3 if 'r' in num]\n",
    "print(g)"
   ]
  },
  {
   "cell_type": "code",
   "execution_count": 106,
   "metadata": {},
   "outputs": [
    {
     "data": {
      "text/plain": [
       "28"
      ]
     },
     "execution_count": 106,
     "metadata": {},
     "output_type": "execute_result"
    }
   ],
   "source": [
    "len(g)"
   ]
  },
  {
   "cell_type": "code",
   "execution_count": 107,
   "metadata": {},
   "outputs": [
    {
     "data": {
      "text/plain": [
       "31"
      ]
     },
     "execution_count": 107,
     "metadata": {},
     "output_type": "execute_result"
    }
   ],
   "source": [
    "#Count of criminals\n",
    "59-28"
   ]
  },
  {
   "cell_type": "markdown",
   "metadata": {},
   "source": [
    "#### 4.Everyone with two or more of the letter t in their full name is a criminal!"
   ]
  },
  {
   "cell_type": "code",
   "execution_count": 108,
   "metadata": {},
   "outputs": [
    {
     "name": "stdout",
     "output_type": "stream",
     "text": [
      "['  \"peter.pittman', '  \"ayden.reed', '  \"kiefer.franks', '  \"oz.mcguire', '  \"ellisandro.noble', '  \"alyas.briggs', '  \"windsor.raymond', '  \"daniyal.brock', '  \"samatar.benson', '  \"jaime.freeman', '  \"aaron.pace', '  \"guerin.mcgowan', '  \"believe.cote', '  \"abdalroof.ray', '  \"blake.barrett', '  \"bradlie.brooks', '  \"rayyan.garza', '  \"declan.wood', '  \"tymon.blackburn', '  \"joash.duffy', '  \"aleksander.ford', '  \"jaida.colon', '  \"jevan.jensen', '  \"abubakar.palmer', '  \"cator.joyce', '  \"valen.henry', '  \"taylor-jay.blackburn', '  \"leonardo.mcfadden', '  \"noel.schneider', '  \"will.osborne', '  \"arda.aguilar', '  \"omri.walls', '  \"lliam.briggs', '  \"kris.lester', '  \"skye.soto', '  \"dermot.vang', '  \"cruiz.simmons', '  \"tymoteusz.riley', '  \"kaidyn.hays', '  \"apisai.fletcher', '  \"kedrick.mcfadden', '  \"archibald.elliott', '  \"kjae.hurley', '  \"tymon.nielsen', '  \"james.dejesus', '  \"reno.silva', '  \"tayyib.brooks', '  \"cormack.alexander', '  \"obieluem.guerra', '  \"hector.moran', '  \"logan.parrish', '  \"robin.rivers', '  \"albie.spence', '  \"qasim.schwartz', '  \"aodhan.cooper', '  \"eassan.hobbs', '  \"parkash.juarez', '  \"teos.horton', '  \"kuba.larsen', '  \"eisa.beard', '  \"hamza.french', '  \"sung.randall', '  \"samir.bond', '  \"conlyn.mckee', '  \"thiago.hooper', '  \"demetrius.holland', '  \"uchenna.oneill', '  \"windsor.steele', '  \"keiryn.macias', '  \"kehinde.allen', '  \"yuri.ramirez', '  \"ruan.perez', '  \"dyllon.young', '  \"lockey.mcmahon', '  \"lyndsay.haynes', '  \"dareh.grimes', '  \"veeran.vinson', '  \"jayke.schroeder', '  \"aronas.berry', '  \"jonothan.donaldson', '  \"kenzeigh.weber', '  \"cesare.huber', '  \"uzair.harris', '  \"kelan.yates', '  \"thomson.gonzales', '  \"keaton.green', '  \"jazeb.kinney', '  \"ronald.flores', '  \"alastair.moses', '  \"ogheneochuko.ratliff', '  \"kenton.conley', '  \"kashif.trujillo', '  \"saghun.ayers', '  \"kamil.eaton', '  \"bailee.henson', '  \"alexei.stanton', '  \"basher.clarke', '  \"harley.brewer', '  \"baley.wood', '  \"kasim.travis', '  \"deon.benson', '  \"rayyan.crawford', '  \"cobain.lawrence', '  \"matthew-william.chang', '  \"devin.dean', '  \"doire.medina', '  \"pearce.allison', '  \"preston.gallagher', '  \"wesley.nunez', '  \"zakir.patel', '  \"praise.joyner', '  \"chin.gates', '  \"khizar.phillips', '  \"cejay.turner', '  \"jared.cleveland', '  \"subhaan.graham', '  \"coll.daugherty', '  \"gurwinder.mclaughlin', '  \"louis.briggs', '  \"kirwin.collins', '  \"ty.hutchinson', '  \"pawlo.reed', '  \"olivier.lynch', '  \"hately.romero', '  \"shai.bernard', '  \"fraser.ware', '  \"morton.scott', '  \"ashton.whitney', '  \"kienan.odom', '  \"dyllon.wright', '  \"daithi.hendricks', '  \"caileb-john.mcintosh', '  \"kaidinn.may', '  \"kaleb.patton', '  \"jamey.bowen', '  \"sean-ray.cabrera', '  \"gavin-lee.fleming', '  \"danniel.cantrell', '  \"zakir.mendoza', '  \"ami.wyatt', '  \"sulayman.richard', '  \"tyrnan.glover', '  \"caiden-paul.terrell', '  \"rehaan.hamilton', '  \"wesley.silva', '  \"coel.little', '  \"windsor.gutierrez', '  \"vladislav.pugh', '  \"richie.bush', '  \"saifaddine.good', '  \"tanzeel.fernandez', '  \"findlay.malone', '  \"tyler-jay.dennis', '  \"kenzie.bray', '  \"mathuyan.cameron', '  \"tymoteusz.wooten', '  \"joey.huffman', '  \"dylin.noble', '  \"lasse.pace', '  \"regean.robinson', '  \"bekim.powers', '  \"muhamadjavad.gould', '  \"myles.lambert', '  \"mazin.dominguez', '  \"leiten.hurst', '  \"angus.wright', '  \"rhy.roach', '  \"nairn.workman', '  \"ciann.carlson', '  \"aydan.aguirre', '  \"ceiran.woodard', '  \"alvin.berry', '  \"sullivan.delacruz', '  \"boedyn.taylor', '  \"bob.allison', '  \"raul.bonner', '  \"karam.ruiz', '  \"shiloh.newman', '  \"ruo.stout', '  \"believe.holder', '  \"josan.cole', '  \"malcolm.stewart', '  \"caleb.mitchell', '  \"zeek.fry', '  \"cody-lee.eaton', '  \"walid.luna', '  \"ashtyn.sweet', '  \"aden.watson', '  \"taylan.harrell', '  \"rennie.padilla', '  \"nikita.ramos', '  \"praise.gillespie', '  \"hogan.allison', '  \"luqman.english', '  \"jaydn.ewing', '  \"jan.workman', '  \"t-jay.vazquez', '  \"kym.stanton', '  \"kaydan.taylor', '  \"cayden-robert.gay', '  \"motade.odom', '  \"ezra.wong', '  \"sher.garner', '  \"bodhan.keller', '  \"masson.graves', '  \"saman.rodriguez', '  \"marcin.bridges', '  \"cillin.juarez', '  \"lucian.hood', '  \"prentice.garza', '  \"peter.stein', '  \"shergo.hamilton', '  \"nathan.callahan', '  \"carlo.odonnell', '  \"lloyd.leach', '  \"atom.norton', '  \"torsten.oneil', '  \"kavin.hurst', '  \"alber.lowery', '  \"neshawn.benjamin', '  \"thumbiko.kirby', '  \"cale.lindsay', '  \"akan.levine', '  \"filippo.herring', '  \"jerome.salinas', '  \"qirui.farrell', '  \"tariq-jay.burns', '  \"harvinder.hester', '  \"fawkes.tate', '  \"zacharius.fisher', '  \"zayn.shields', '  \"angus.bentley', '  \"dante.bennett', '  \"koushik.zamora', '  \"cori.wall', '  \"andrejs.bennett', '  \"taylar.monroe', '  \"ijay.duffy', '  \"ciarian.greene', '  \"suraj.blackburn', '  \"syed.stone', '  \"garrett.sharp', '  \"tymoteusz.stevenson', '  \"haris.page', '  \"aron.witt', '  \"alieu.cervantes', '  \"sidney.hahn', '  \"oilibhear.kerr', '  \"jaii.diaz', '  \"jia.acevedo', '  \"siddhant.duffy', '  \"branden.harris', '  \"axel.hernandez', '  \"cory.cannon', '  \"tomson.craft', '  \"forgan.aguirre', '  \"aristotelis.hopper', '  \"dylin.decker', '  \"samar.petersen', '  \"rishi.wade', '  \"irvin.mccarty', '  \"kensey.foster', '  \"aj.tucker', '  \"reynold.church', '  \"aon.neal', '  \"howard.johns', '  \"darn.turner', '  \"niall.atkins', '  \"oakley.mckenzie', '  \"darrie.velez', '  \"martyn.pittman', '  \"krzysztof.mendoza', '  \"samar.huff', '  \"kez.kinney', '  \"chin.summers', '  \"darragh.knapp', '  \"brendyn.lewis', '  \"chang-ha.rosales', '  \"kaan.baldwin', '  \"mir.mcgowan', '  \"ridwan.hernandez', '  \"cesare.todd', '  \"neo.ortega', '  \"jensyn.eaton', '  \"kaydyn.hill', '  \"otto.hoover', '  \"lukasz.soto', '  \"tadhg.fields', '  \"owain.dale', '  \"prithvi.mclaughlin', '  \"ceilan.ware', '  \"tate.curtis', '  \"rhy.bridges', '  \"harnek.collins', '  \"dakota.morgan', '  \"billy.fitzgerald', '  \"wyatt.dawson', '  \"seamus.nixon', '  \"kogan.massey', '  \"brandonlee.rowe', '  \"reng.chang', '  \"hunter.kinney', '  \"umair.pate', '  \"ronnie.sandoval', '  \"demetrius.pate', '  \"ruslan.hogan', '  \"bentley.sutton', '  \"brandon.allen', '  \"tobie.blair', '  \"finlay.mcintosh', '  \"celik.reese', '  \"alexei.solomon', '  \"harrison.wall', '  \"blessing.walter', '  \"gene.bryan', '  \"kensey.robles', '  \"luka.lott', '  \"jonah.weaver', '  \"michael-james.ramirez', '  \"tian.koch', '  \"levon.oconnor', '  \"loki.floyd', '  \"marvin.cain', '  \"erencem.barton', '  \"momooreoluwa.parks', '  \"osesenagha.herring', '  \"urban.freeman', '  \"nico.simon', '  \"loghan.guthrie', '  \"sajid.matthews', '  \"omar.hebert', '  \"kristopher.nash', '  \"daren.pearson', '  \"lawson.gilliam', '  \"believe.klein', '  \"brendan.mayer', '  \"danar.salas', '  \"kabeer.rios', '  \"daithi.day', '  \"crombie.snider', '  \"calib.dennis', '  \"geoff.ashley', '  \"declyn.finch', '  \"zaaine.house', '  \"gianluca.bryan', '  \"arann.brennan', '  \"abdul-majeed.leon', '  \"abdallah.blanchard', '  \"ciar.fields', '  \"lucian.coffey', '  \"ali.peck', '  \"ibrahim.berger', '  \"kaden.preston', '  \"korrin.hays', '  \"jaiden.munoz', '  \"surien.burton', '  \"jazz.frank', '  \"liam-stephen.kemp', '  \"rocco.porter', '  \"riach.rodgers', '  \"calan.burks', '  \"mantej.gillespie', '  \"hussnain.farmer', '  \"kai.walsh', '  \"allan-laiton.stark', '  \"lewis.carr', '  \"dale.bradley', '  \"montague.potts', '  \"ker.joseph', '  \"dedeniseoluwa.peterson', '  \"aaryan.colon', '  \"vasyl.cortez', '  \"cael.washington', '  \"arayan.ford', '  \"flyn.cruz', '  \"kris.james', '  \"callun.harrington', '  \"zander.cleveland', '  \"chester.hammond', '  \"basile.gray', '  \"davis.lamb', '  \"gabriel.may', '  \"yusef.parsons', '  \"kieren.butler', '  \"bret.martinez', '  \"aden.dickerson', '  \"kal-el.mcmahon', '  \"bernard.nguyen', '  \"nolan.mcbride', '  \"joshiah.mckenzie', '  \"lloyd.carroll', '  \"sheafan.sloan', '  \"rowen.walters', '  \"zacharie.sparks', '  \"mckay.stewart', '  \"munmair.padilla', '  \"mccaulley.pratt', '  \"jason.butler', '  \"kenlin.hardy', '  \"arann.hood', '  \"darcy.giles', '  \"aliyaan.carlson', '  \"dimitri.boyer', '  \"bayley.adkins', '  \"cristian.meyer', '  \"jordan.wallace', '  \"forrest.mosley', '  \"hussnan.buckner', '  \"hamish.rosa', '  \"gabriel.macdonald', '  \"moyes.mcgee', '  \"alber.tran', '  \"kaelan.decker', '  \"kaydyne.trujillo', '  \"blaire.curtis', '  \"peirce.hill', '  \"leroy.fernandez', '  \"kofi.hayden', '  \"bradlie.payne', '  \"nabeel.owen', '  \"izaak.gill', '  \"arsalan.fernandez', '  \"leonardo.harmon', '  \"maksymilian.lambert', '  \"sanaullah.bean', '  \"bekim.cervantes', '  \"jian.wade', '  \"robert.britt', '  \"eassan.burt', '  \"ubaid.horton', '  \"hirvaansh.hall', '  \"johnson.mendez', '  \"miller.kennedy', '  \"stephen.vang', '  \"anthony-john.norton', '  \"nathan-rae.faulkner', '  \"eden.luna', '  \"dharam.barr', '  \"aun.howe', '  \"niven.ramos', '  \"malikye.lester', '  \"neo.conner', '  \"mathuyan.mcbride', '  \"maksymilian.green', '  \"konar.bonner', '  \"nicolae.clay', '  \"ayub.yates', '  \"benjamin.velez', '  \"sukhvir.johns', '  \"rajab-ali.ewing', '  \"obieluem.sargent', '  \"jerry.slater', '  \"asim.alvarez', '  \"steve.pennington', '  \"joynul.morgan', '  \"clayton.herrera', '  \"hansen.vasquez', '  \"leno.newton', '  \"obieluem.slater', '  \"vasyl.vincent', '  \"rupert.holden', '  \"tomson.whitney', '  \"albert.ellison', '  \"kinneil.garza', '  \"ruo.pitts', '  \"niraj.massey', '  \"eden.leach', '  \"rori.bray', '  \"valery.camacho', '  \"silas.hinton', '  \"yuri.melton', '  \"morris.hewitt', '  \"bo.hubbard', '  \"salahudin.gordon', '  \"danar.byers', '  \"kallin.dyer', '  \"ohran.white', '  \"kia.daugherty', '  \"teos.powell', '  \"jaydan.gill', '  \"uilleam.hammond', '  \"danys.roman', '  \"munmair.perkins', '  \"fletcher.berger', '  \"brogan.montoya', '  \"archibald.cohen', '  \"abraham.miranda', '  \"salvador.dale', '  \"oliwier.donaldson', '  \"rheyden.compton', '  \"adnan.briggs', '  \"joe.walton', '  \"garry.roy', '  \"adegbolahan.copeland', '  \"lincoln.dennis', '  \"rhuan.christian', '  \"calvin.graham', '  \"aldred.burt', '  \"andreas.brewer', '  \"niro.ware', '  \"shadow.lindsey', '  \"ivar.joseph', '  \"etienne.cash', '  \"shaunpaul.luna', '  \"arian.tillman', '  \"stewart.sears', '  \"jahid.marquez', '  \"judah.elliott', '  \"daanyaal.barber', '  \"eliot.carey', '  \"xin.black', '  \"mohammad-bilal.carlson', '  \"yong.reynolds', '  \"braden.oconnor', '  \"vinh.lyons', '  \"kiaran.flowers', '  \"alessio.michael', '  \"lachlainn.jefferson', '  \"levi.olson', '  \"walter.lara', '  \"nader.sanchez', '  \"leighton.simmons', '  \"dean.warren', '  \"yu.everett', '  \"bradlie.macdonald', '  \"atapattu.sloan', '  \"will.blair', '  \"filip.wilkerson', '  \"jean-pierre.glover', '  \"allan.acevedo', '  \"bobby-lee.jenkins', '  \"kehinde.santiago', '  \"jamie.beasley', '  \"harvie.koch', '  \"cathal.mcbride', '  \"ryden.jefferson', '  \"t-jay.chavez', '  \"kohen.eaton', '  \"heddle.hays', '  \"ammer.newman', '  \"calen.hubbard', '  \"alfy.nixon', '  \"rikki.jackson', '  \"aref.bass', '  \"fahad.farrell', '  \"jaydyn.gill', '  \"cain.marshall', '  \"momooreoluwa.singleton', '  \"keigan.golden', '  \"rees.huffman', '  \"bradyn.harding', '  \"keith.frederick', '  \"cobi.fulton', '  \"kevan.whitfield', '  \"aliekber.cooper', '  \"eesa.juarez', '  \"vuyolwethu.albert', '  \"codie.frost', '  \"laughlan.carrillo', '  \"kaywan.sears', '  \"gary.leon', '  \"francis.reid', '  \"aiman.wolf', '  \"bryson.watts', '  \"abbas.weber', '  \"greig.barlow', '  \"jerome.sellers', '  \"kori.tyson', '  \"loki.powell', '  \"abhinav.wooten', '  \"connar.dorsey', '  \"malo.johns', '  \"pierre-antoine.jarvis', '  \"rajab-ali.pittman', '  \"kinsey.armstrong', '  \"corben.guerra', '  \"jedd.rodriguez', '  \"taonga.finch', '  \"aarez.hull', '  \"levi.york', '  \"bjorn.yates', '  \"innes.stanton', '  \"tadd.maxwell', '  \"sandro.buckley', '  \"lincoln.crosby', '  \"kenzeigh.page', '  \"fynn.gaines', '  \"liam.aguirre', '  \"bo.greer', '  \"daegan.kline', '  \"leven.house', '  \"manus.carney', '  \"maias.pacheco', '  \"orlando.heath', '  \"bradley.gordon', '  \"seane.gentry', '  \"wiktor.lott', '  \"kelam.golden', '  \"t-jay.black', '  \"eadie.burgess', '  \"lincoln.johns', '  \"mungo.benjamin', '  \"strachan.pitts', '  \"junior.payne', '  \"narvic.stein', '  \"oluwatobiloba.rogers', '  \"zi.brooks', '  \"johannes.wilkinson', '  \"stephen.meyer', '  \"baley.merrill', '  \"ceilan.nash', '  \"jaidyn.ramos', '  \"lincon.morrison', '  \"ogheneochuko.nelson', '  \"aayan.armstrong', '  \"fruin.woodward', '  \"warrick.love', '  \"wesley-scott.may', '  \"peni.foster', '  \"lorenz.lawrence', '  \"sahil.bowers', '  \"hogan.mcdowell', '  \"adnan.bruce', '  \"lockey.wolfe', '  \"brooklin.herring', '  \"alber.hart', '  \"loudon.franks', '  \"louie.mckay', '  \"milo.bond', '  \"pawel.odonnell', '  \"maisum.zamora', '  \"rudi.chandler', '  \"baye.travis', '  \"jian.glenn', '  \"fynlay.johnson', '  \"matteo.daniels', '  \"thorfinn.noble', '  \"dregan.blair', '  \"oskar.kane', '  \"tymoteusz.ball', '  \"kal-el.owen', '  \"filippo.carey', '  \"zaak.dillard', '  \"faizaan.knapp', '  \"munir.reyes', '  \"denny.logan', '  \"antonio.rose', '  \"andreas.baxter', '  \"nadeem.pacheco', '  \"jarred.stone', '  \"dylan-patrick.west', '  \"johnson.humphrey', '  \"ashley.acosta', '  \"lepeng.mcfadden', '  \"muir.warner', '  \"rhyan.barrera', '  \"dylan-james.perkins', '  \"rafal.le', '  \"asif.browning', '  \"rorie.lara', '  \"dominick.hoffman', '  \"devan.nolan', '  \"ezekiel.rios', '  \"gjan.beasley', '  \"maryk.patterson', '  \"sidharth.pickett', '  \"vuyolwethu.craft', '  \"jia.alford', '  \"braiden.bauer', '  \"leylann.massey', '  \"aon.chang', '  \"johnny.davidson', '  \"noor.simmons', '  \"karol.drake', '  \"aydin.knapp', '  \"bilal.conley', '  \"erik.caldwell', '  \"greig.benjamin', '  \"zinedine.rowland', '  \"jorryn.munoz', '  \"eamon.lindsay', '  \"arthur.navarro', '  \"sambrid.beasley', '  \"angel.ramos', '  \"amgad.bradley', '  \"pasquale.faulkner', '  \"enzo.cole', '  \"meko.richardson', '  \"leighton.marquez', '  \"tyrnan.meadows', '  \"camerin.sloan', '  \"cori.mckee', '  \"immanuel.garrison', '  \"mathias.fulton', '  \"rudy.nielsen', '  \"darn.andrews', '  \"abdul-aziz.mcconnell', '  \"oluwafikunayomi.henson', '  \"richard.boyer', '  \"hussnan.cote', '  \"julien.holden', '  \"bartosz.skinner', '  \"kendyn.maynard', '  \"irvin.arnold', '  \"strachan.leblanc', '  \"ashwin.guerra', '  \"kylian.rogers', '  \"dex.hill', '  \"arron.gilmore', '  \"muzammil.sharpe', '  \"mathias.barber', '  \"jebadiah.pugh', '  \"dakota.gay', '  \"harleigh.garrett', '  \"dissanayake.rose', '  \"shayan.deleon', '  \"obieluem.levine', '  \"sajjad.buckley', '  \"shiraz.daugherty', '  \"moosa.watson', '  \"maksim.schultz', '  \"sung.copeland', '  \"coel.key', '  \"lochlan-oliver.white', '  \"majid.bryan', '  \"nial.pitts', '  \"allesandro.porter', '  \"theodore.burnett', '  \"sephiroth.duke', '  \"filip.baxter', '  \"shawnpaul.tucker', '  \"rajab-ali.floyd', '  \"tokinaga.barton', '  \"rees.christensen', '  \"harleigh.moses', '  \"rico.guy', '  \"corey-james.garza', '  \"connor.velasquez', '  \"cole.marks', '  \"zackary.moody', '  \"robi.franklin', '  \"heini.acosta', '  \"dinaras.daugherty', '  \"grayson.walton', '  \"derryn.tran', '  \"ryszard.clements', '  \"jayson.newton', '  \"keavan.roth', '  \"harleigh.oconnor', '  \"fergus.estrada', '  \"kit.best', '  \"jagat.wong', '  \"johansson.wright', '  \"justan.mayer', '  \"enrique.cross', '  \"leno.baldwin', '  \"atli.leonard', '  \"jenson.greer', '  \"dennis.avery', '  \"nassir.greer', '  \"natan.fulton', '  \"avraham.rice', '  \"eljay.mays', '  \"mikee.garrison', '  \"aronas.willis', '  \"seamas.jarvis', '  \"kaleem.pope', '  \"callyn.robles', '  \"isira.vega', '  \"salter.owen', '  \"valo.solomon', '  \"jaymie.luna', '  \"devin.cunningham', '  \"oluwafemi.sellers', '  \"keatin.kline', '  \"emile.sullivan', '  \"bharath.witt', '  \"oakley.wyatt', '  \"rexford.walker', '  \"nevin.french', '  \"presley.kim', '  \"aldred.wiley', '  \"lockey.zimmerman', '  \"marty.bryan', '  \"roan.owens', '  \"zak.tanner', '  \"sajid.mckee', '  \"shayan.lara', '  \"dayem.wolf', '  \"jordan.alvarado', '  \"yasin.montoya', '  \"deshawn.sloan', '  \"ilyas.branch', '  \"zakariya.vinson', '  \"modu.sampson', '  \"comghan.patrick', '  \"isira.rodgers', '  \"omri.sharpe', '  \"caelen.ballard', '  \"thrinei.bentley', '  \"calum.grimes', '  \"j.wood', '  \"tanner.massey', '  \"david-jay.hickman', '  \"brett.yates', '  \"veeran.mcclure', '  \"kogan.head', '  \"darroch.rollins', '  \"elliot.sims', '  \"oryn.webb', '  \"kienan.stokes', '  \"zachery.benson', '  \"mitch.whitley', '  \"rhyan.harrell', '  \"vasyl.mendez', '  \"deecan.daugherty', '  \"lewie.mcknight', '  \"mueez.bullock', '  \"cieran.thornton', '  \"nickhill.randolph', '  \"samatar.baird', '  \"asim.joseph', '  \"mir.henson', '  \"aytug.joyce', '  \"oskar.willis', '  \"mathias.bauer', '  \"kyaan.lang', '  \"zein.andrews', '  \"toby.kelley', '  \"paul.bean', '  \"kaelum.price', '  \"richie.shepard', '  \"adil.terrell', '  \"callyn.swanson', '  \"hyden.bowman', '  \"fergus.cantu', '  \"azaan.wood', '  \"jura.hodges', '  \"blyth.charles', '  \"martin.mcgee', '  \"okeoghene.rosales', '  \"shai.barrett', '  \"kogan.newman', '  \"umair.robles', '  \"reeve.velasquez', '  \"angel.franklin', '  \"saman.osborne', '  \"sidney.rogers', '  \"loui.haley', '  \"sephiroth.robinson', '  \"pierce.pate', '  \"philippos.sloan', '  \"gordon.greer', '  \"josan.sandoval', '  \"bruno.delacruz', '  \"idris.carson', '  \"corey.melendez', '  \"otto.bell', '  \"tymon.martinez', '  \"yahya.walker', '  \"aran.morton', '  \"spondon.shepherd', '  \"marcello.carlson', '  \"caileb-john.blair', '  \"sean-ray.vazquez', '  \"ireoluwa.bowers', '  \"boab.ochoa', '  \"dharam.becker', '  \"gurthar.irwin', '  \"barath.boyle', '  \"leo.harper', '  \"shergo.mendez', '  \"kyron.bowers', '  \"efe.mason', '  \"dylan-patrick.melendez', '  \"seaan.gregory', '  \"maison.faulkner', '  \"gerard.talley', '  \"sonni.carroll', '  \"cole.boyd', '  \"abdul-rehman.lewis', '  \"maximilian.cortez', '  \"jean.hensley', '  \"lyle.shelton', '  \"siddhant.shannon', '  \"joshiah.montoya', '  \"stephen.hines', '  \"copeland.hartman', '  \"feden.avery', '  \"sunny.odom', '  \"kiaran.cunningham', '  \"kaison.kelly', '  \"girius.pierce', '  \"brayden.walker', '  \"campbell.vance', '  \"rokas.durham', '  \"finley.emerson', '  \"fox.banks', '  \"bradly.evans', '  \"liyonela-elam.sellers', '  \"vincenzo.singleton', '  \"vince.brock', '  \"sohan.schultz', '  \"braydon.mcclain', '  \"jerry.bauer', '  \"nicky.buckley', '  \"ruslan.bowen', '  \"reid.franklin', '  \"kale.dickerson', '  \"ammaar.gillespie', '  \"renars.mcleod', '  \"buddy.macdonald', '  \"ryleigh.mcguire', '  \"zaid.wynn', '  \"hamish.fowler', '  \"tiernan.morales', '  \"jac.pollard', '  \"rupert.nunez', '  \"havila.harrington', '  \"dale.meyers', '  \"zubair.carey', '  \"christy.ortega', '  \"moad.hester', '  \"manas.byrd', '  \"steve.petersen', '  \"camerin.odonnell', '  \"adenn.hanson', '  \"sahaib.short', '  \"carwyn.barry', '  \"frazer.pennington', '  \"conall.newman', '  \"harman.branch', '  \"tyler.keith', '  \"pierce.chandler', '  \"graham.shepherd', '  \"inan.tillman', '  \"lael.mclean', '  \"donald.harrington', '  \"jesse.bright', '  \"arran.shepard', '  \"gurwinder.carpenter', '  \"aiman.mason', '  \"lloyd.deleon', '  \"bryn.downs', '  \"thierry.owens', '  \"benny.schneider', '  \"bryden.holmes', '  \"zak.boyer', '  \"declan.guy', '  \"soham.guthrie', '  \"harrington.moreno', '  \"tanner.rivas', '  \"eriz.cox', '  \"sharland.stuart', '  \"gurwinder.dixon', '  \"keir.guthrie', '  \"kenzie.greer', '  \"chin.orr', '  \"ishwar.chen', '  \"loki.franco', '  \"ahmed.kirkland', '  \"diesel.simmons', '  \"harman.carlson', '  \"ardeshir.mckay', '  \"keiran.rogers', '  \"sonny.carpenter', '  \"caley.sullivan', '  \"humza.fleming', '  \"eesa.wilcox', '  \"jai-rajaram.wilson', '  \"olivier.gonzales', '  \"reis.pugh', '  \"liam-stephen.mcfarland', '  \"arandeep.quinn', '  \"khizar.solomon', '  \"samarjit.duffy', '  \"angel.dunlap', '  \"yoji.sykes', '  \"elshan.gomez', '  \"mohd.dodson', '  \"jadyn.hunter', '  \"kiaran.schwartz', '  \"argyll.stein', '  \"kole.jacobs', '  \"jordy.lane', '  \"wasif.rogers', '  \"carter.rich', '  \"ryley.horne', '  \"rayane.buckley', '  \"geoffrey.crosby', '  \"eesa.cox', '  \"josese.davenport', '  \"zaak.vang', '  \"robin.odonnell', '  \"john.elliott', '  \"shaurya.stephens', '  \"kyhran.vinson', '  \"loghan.vega', '  \"clyde.mccullough', '  \"miller.berg']\n"
     ]
    }
   ],
   "source": [
    "#Let's go ahead and extract the email from the first and last name from the whole list of emails\n",
    "emails_new = [i.split('@')[0] for i in emails]\n",
    "print (emails_new)"
   ]
  },
  {
   "cell_type": "code",
   "execution_count": 109,
   "metadata": {},
   "outputs": [
    {
     "name": "stdout",
     "output_type": "stream",
     "text": [
      "{'  \"peter.pittman': 3, '  \"morton.scott': 3, '  \"tymoteusz.wooten': 3, '  \"dante.bennett': 3, '  \"tymoteusz.stevenson': 3, '  \"martyn.pittman': 3, '  \"tate.curtis': 3, '  \"bentley.sutton': 3, '  \"montague.potts': 3, '  \"robert.britt': 3, '  \"atapattu.sloan': 3, '  \"wiktor.lott': 3, '  \"strachan.pitts': 3, '  \"sidharth.pickett': 3, '  \"theodore.burnett': 3, '  \"bharath.witt': 3, '  \"brett.yates': 3}\n"
     ]
    }
   ],
   "source": [
    "#Let's check for names with two or more \"t\" letters\n",
    "emails_new_2 = { i:i.count('t') for i in emails_new if i.count('t') > 2}\n",
    "print(emails_new_2)"
   ]
  },
  {
   "cell_type": "code",
   "execution_count": 110,
   "metadata": {},
   "outputs": [
    {
     "data": {
      "text/plain": [
       "17"
      ]
     },
     "execution_count": 110,
     "metadata": {},
     "output_type": "execute_result"
    }
   ],
   "source": [
    "#Amount of potential criminals\n",
    "len(emails_new_2) "
   ]
  },
  {
   "cell_type": "code",
   "execution_count": 111,
   "metadata": {},
   "outputs": [
    {
     "name": "stdout",
     "output_type": "stream",
     "text": [
      "['pittman', 'scott', 'wooten', 'bennett', 'stevenson', 'pittman', 'curtis', 'sutton', 'potts', 'britt', 'sloan', 'lott', 'pitts', 'pickett', 'burnett', 'witt', 'yates']\n"
     ]
    }
   ],
   "source": [
    "#Let's get only the last name for the potential 17 criminals\n",
    "emails_new_3 = [i.split('.')[-1] for i in emails_new_2]\n",
    "print (emails_new_3)"
   ]
  },
  {
   "cell_type": "code",
   "execution_count": 112,
   "metadata": {},
   "outputs": [
    {
     "name": "stdout",
     "output_type": "stream",
     "text": [
      "['curtis', 'britt', 'burnett']\n"
     ]
    }
   ],
   "source": [
    "#Now we will check all names with 'r' in their last name, since they are innocent\n",
    "e = [num for num in emails_new_3 if 'r' in num]\n",
    "print(e)"
   ]
  },
  {
   "cell_type": "code",
   "execution_count": 114,
   "metadata": {},
   "outputs": [
    {
     "data": {
      "text/plain": [
       "3"
      ]
     },
     "execution_count": 114,
     "metadata": {},
     "output_type": "execute_result"
    }
   ],
   "source": [
    "len(e)"
   ]
  },
  {
   "cell_type": "code",
   "execution_count": 113,
   "metadata": {},
   "outputs": [
    {
     "data": {
      "text/plain": [
       "14"
      ]
     },
     "execution_count": 113,
     "metadata": {},
     "output_type": "execute_result"
    }
   ],
   "source": [
    "#Count of innocent is 3 so therefore count of criminals is:\n",
    "17-3"
   ]
  }
 ],
 "metadata": {
  "kernelspec": {
   "display_name": "Python 3",
   "language": "python",
   "name": "python3"
  },
  "language_info": {
   "codemirror_mode": {
    "name": "ipython",
    "version": 3
   },
   "file_extension": ".py",
   "mimetype": "text/x-python",
   "name": "python",
   "nbconvert_exporter": "python",
   "pygments_lexer": "ipython3",
   "version": "3.9.0"
  }
 },
 "nbformat": 4,
 "nbformat_minor": 4
}
